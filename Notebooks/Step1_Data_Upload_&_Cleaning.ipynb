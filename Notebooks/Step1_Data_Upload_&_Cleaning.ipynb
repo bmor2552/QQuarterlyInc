{
 "cells": [
  {
   "cell_type": "markdown",
   "metadata": {},
   "source": [
    "# Data Upload\n",
    "The purpose of this notebook is to use the python library edgar to request from the SEC.gov website the files on companies. I want to focus on the quaterly reports of companies listed as NYSE stocks; there are 2,800 companies in that list. Once I have the files will then clean the documents up the prepare them for the modeling phase. The plan is to use 19 companies.\n",
    "\n",
    "**About the data:** The data was obtained from a list of companies that were registered with the SEC. In a scrap notebook I created a dataframe out of that list and cleaned it up. I dropped three columns which lead to the loss of 30,000 companies. This which was fine since the list contained 759,377 companies. \n",
    "\n",
    "Once I had the cleaned dataframe, I then searched for NYSE Companies within the data and created a new dataset. That smaller dataset is what you see being uploaded to this notebook. A link for the original list of SEC Registered companies will be provided in the resource section below. \n",
    "\n",
    "## Objectives:\n",
    "\n",
    "- Download needed documentation from SEC using edgar\n",
    "- Filter documentation to only contain NYSE company files\n",
    "- Clean and prepocess files for modeling phase"
   ]
  },
  {
   "cell_type": "markdown",
   "metadata": {},
   "source": [
    "# Bringing In the Data With Small Adjustments\n",
    "In the section you will see the data frame created for 18 NYSE Companies of my choice, with their corresponding CIK number. You will then see the creation of an additional column that will have the companies corresponding ticker symbol. "
   ]
  },
  {
   "cell_type": "code",
   "execution_count": 1,
   "metadata": {},
   "outputs": [],
   "source": [
    "# Data Importing and Manipulation\n",
    "import numpy as np\n",
    "import pandas as pd\n",
    "\n",
    "# Web Scrapping\n",
    "from sec_edgar_downloader import Downloader\n",
    "from bs4 import BeautifulSoup\n",
    "\n",
    "# Sting Manipulation\n",
    "import re\n",
    "import unicodedata"
   ]
  },
  {
   "cell_type": "code",
   "execution_count": 7,
   "metadata": {},
   "outputs": [],
   "source": [
    "# Importing the data\n",
    "df = pd.read_csv('SEC Registered NYSE US Companies Down Sampled', index_col='Name')"
   ]
  },
  {
   "cell_type": "code",
   "execution_count": 9,
   "metadata": {},
   "outputs": [
    {
     "data": {
      "text/plain": [
       "Index(['Unnamed: 0', 'CIK_Num'], dtype='object')"
      ]
     },
     "execution_count": 9,
     "metadata": {},
     "output_type": "execute_result"
    }
   ],
   "source": [
    "df.columns # Checking the columns"
   ]
  },
  {
   "cell_type": "code",
   "execution_count": 11,
   "metadata": {},
   "outputs": [],
   "source": [
    "df.drop(columns='Unnamed: 0', inplace=True) # Getting rid of extra column"
   ]
  },
  {
   "cell_type": "code",
   "execution_count": 13,
   "metadata": {},
   "outputs": [],
   "source": [
    "# Creating a new with the companies ticker symbol\n",
    "df['Ticker'] = ['MMM', 'ABT', 'ACN', 'ALGT',\n",
    "                'BKR', 'BAX', 'BA', 'DVN',\n",
    "                'GS', 'GS', 'JNJ', 'MA',\n",
    "                'MS', 'PM', 'PRU', 'RTX',\n",
    "                'SPG', 'SKYW', 'SO']"
   ]
  },
  {
   "cell_type": "code",
   "execution_count": 22,
   "metadata": {},
   "outputs": [
    {
     "name": "stdout",
     "output_type": "stream",
     "text": [
      "Column Names:\n",
      "Index(['CIK_Num', 'Ticker'], dtype='object')\n",
      "\n",
      "\n",
      "Data Quick View:\n"
     ]
    },
    {
     "data": {
      "text/html": [
       "<div>\n",
       "<style scoped>\n",
       "    .dataframe tbody tr th:only-of-type {\n",
       "        vertical-align: middle;\n",
       "    }\n",
       "\n",
       "    .dataframe tbody tr th {\n",
       "        vertical-align: top;\n",
       "    }\n",
       "\n",
       "    .dataframe thead th {\n",
       "        text-align: right;\n",
       "    }\n",
       "</style>\n",
       "<table border=\"1\" class=\"dataframe\">\n",
       "  <thead>\n",
       "    <tr style=\"text-align: right;\">\n",
       "      <th></th>\n",
       "      <th>CIK_Num</th>\n",
       "      <th>Ticker</th>\n",
       "    </tr>\n",
       "    <tr>\n",
       "      <th>Name</th>\n",
       "      <th></th>\n",
       "      <th></th>\n",
       "    </tr>\n",
       "  </thead>\n",
       "  <tbody>\n",
       "    <tr>\n",
       "      <td>3M Co</td>\n",
       "      <td>66740</td>\n",
       "      <td>MMM</td>\n",
       "    </tr>\n",
       "    <tr>\n",
       "      <td>Abbott Laboratories</td>\n",
       "      <td>1800</td>\n",
       "      <td>ABT</td>\n",
       "    </tr>\n",
       "    <tr>\n",
       "      <td>Accenture Plc</td>\n",
       "      <td>1467373</td>\n",
       "      <td>ACN</td>\n",
       "    </tr>\n",
       "    <tr>\n",
       "      <td>Allegiant Travel Co</td>\n",
       "      <td>1362468</td>\n",
       "      <td>ALGT</td>\n",
       "    </tr>\n",
       "    <tr>\n",
       "      <td>Baker Hughes Co</td>\n",
       "      <td>1701605</td>\n",
       "      <td>BKR</td>\n",
       "    </tr>\n",
       "  </tbody>\n",
       "</table>\n",
       "</div>"
      ],
      "text/plain": [
       "                     CIK_Num Ticker\n",
       "Name                               \n",
       "3M Co                  66740    MMM\n",
       "Abbott Laboratories     1800    ABT\n",
       "Accenture Plc        1467373    ACN\n",
       "Allegiant Travel Co  1362468   ALGT\n",
       "Baker Hughes Co      1701605    BKR"
      ]
     },
     "execution_count": 22,
     "metadata": {},
     "output_type": "execute_result"
    }
   ],
   "source": [
    "# Checking work\n",
    "print('Column Names:')\n",
    "print(df.columns)\n",
    "print('\\n')\n",
    "print('Data Quick View:')\n",
    "df.head()"
   ]
  },
  {
   "cell_type": "markdown",
   "metadata": {},
   "source": [
    "# Company Document Downloads\n",
    "This section will contain the downloading of the documents that will be used for sentiment analysis. The document of focus is the 10-Q or quaterly reports of each company in the dataset between the years of 2016 - 2020. This section of code was obtained from Bryan Arnold. The documentation for the code used will be located in the resource section of the notebook."
   ]
  },
  {
   "cell_type": "code",
   "execution_count": 23,
   "metadata": {},
   "outputs": [],
   "source": [
    "# Initialize a downloader instance.\n",
    "# If no argument is passed to the constructor, the package\n",
    "# will attempt to locate the user's downloads folder.\n",
    "# I gave it the absolute path to my project folder\n",
    "\n",
    "dl = Downloader(\"/Users/boimoriba/Documents/Learn.Co_Docs/Projects/Capstone\")"
   ]
  },
  {
   "cell_type": "markdown",
   "metadata": {},
   "source": [
    "**3M Co: MMM**\n",
    "\n",
    "This is the first attempt at the obtaining the data needed from the downloaded documents. Below you will see one this condicted on one of the 10-Qs for 3M Co that was downloaded. If this proves to be sucuessful, then an automated way will be the next step to obtain the remaning data from each downloaded document.  "
   ]
  },
  {
   "cell_type": "code",
   "execution_count": 33,
   "metadata": {},
   "outputs": [
    {
     "data": {
      "text/plain": [
       "13"
      ]
     },
     "execution_count": 33,
     "metadata": {},
     "output_type": "execute_result"
    }
   ],
   "source": [
    "# # Get all 10-Q filings (ticker: MMM )\n",
    "# dl.get(\"10-Q\", \"MMM\", after_date=\"20160101\")"
   ]
  },
  {
   "cell_type": "code",
   "execution_count": 58,
   "metadata": {},
   "outputs": [],
   "source": [
    "# Reading in the document\n",
    "PATH = \"/Users/boimoriba/Documents/Learn.Co_Docs/Projects/Capstone/sec_edgar_filings/MMM/10-Q/0001558370-16-005213.txt\"\n",
    "file = open(PATH, \"r\", -1 , \"utf-8\")\n",
    "text = file.read()\n",
    "file.close()"
   ]
  },
  {
   "cell_type": "code",
   "execution_count": 59,
   "metadata": {},
   "outputs": [],
   "source": [
    "soup = BeautifulSoup(text, 'lxml') # Parsing document"
   ]
  },
  {
   "cell_type": "code",
   "execution_count": 60,
   "metadata": {},
   "outputs": [
    {
     "data": {
      "text/plain": [
       "<sec-header>0001558370-16-005213.hdr.sgml : 20160503\n",
       "<acceptance-datetime>20160503165847\n",
       "ACCESSION NUMBER:\t\t0001558370-16-005213\n",
       "CONFORMED SUBMISSION TYPE:\t10-Q\n",
       "PUBLIC DOCUMENT COUNT:\t\t92\n",
       "CONFORMED PERIOD OF REPORT:\t20160331\n",
       "FILED AS OF DATE:\t\t20160503\n",
       "DATE AS OF CHANGE:\t\t20160503\n",
       "\n",
       "FILER:\n",
       "\n",
       "\tCOMPANY DATA:\t\n",
       "\t\tCOMPANY CONFORMED NAME:\t\t\t3M CO\n",
       "\t\tCENTRAL INDEX KEY:\t\t\t0000066740\n",
       "\t\tSTANDARD INDUSTRIAL CLASSIFICATION:\tSURGICAL &amp; MEDICAL INSTRUMENTS &amp; APPARATUS [3841]\n",
       "\t\tIRS NUMBER:\t\t\t\t410417775\n",
       "\t\tSTATE OF INCORPORATION:\t\t\tDE\n",
       "\t\tFISCAL YEAR END:\t\t\t1231\n",
       "\n",
       "\tFILING VALUES:\n",
       "\t\tFORM TYPE:\t\t10-Q\n",
       "\t\tSEC ACT:\t\t1934 Act\n",
       "\t\tSEC FILE NUMBER:\t001-03285\n",
       "\t\tFILM NUMBER:\t\t161616219\n",
       "\n",
       "\tBUSINESS ADDRESS:\t\n",
       "\t\tSTREET 1:\t\t3M CENTER\n",
       "\t\tSTREET 2:\t\tBLDG. 220-11W-02\n",
       "\t\tCITY:\t\t\tST PAUL\n",
       "\t\tSTATE:\t\t\tMN\n",
       "\t\tZIP:\t\t\t55144-1000\n",
       "\t\tBUSINESS PHONE:\t\t6517332204\n",
       "\n",
       "\tMAIL ADDRESS:\t\n",
       "\t\tSTREET 1:\t\t3M CENTER\n",
       "\t\tSTREET 2:\t\tBLDG. 220-11W-02\n",
       "\t\tCITY:\t\t\tST. PAUL\n",
       "\t\tSTATE:\t\t\tMN\n",
       "\t\tZIP:\t\t\t55144-1000\n",
       "\n",
       "\tFORMER COMPANY:\t\n",
       "\t\tFORMER CONFORMED NAME:\tMINNESOTA MINING &amp; MANUFACTURING CO\n",
       "\t\tDATE OF NAME CHANGE:\t19920703\n",
       "</acceptance-datetime></sec-header>"
      ]
     },
     "metadata": {},
     "output_type": "display_data"
    }
   ],
   "source": [
    "# Viewing header of document \n",
    "sec_header_tag = soup.find('sec-header')\n",
    "display(sec_header_tag)"
   ]
  },
  {
   "cell_type": "markdown",
   "metadata": {},
   "source": [
    "### CLEANING OF THE MMM IMPORTED DOCUMENT"
   ]
  },
  {
   "cell_type": "code",
   "execution_count": 62,
   "metadata": {},
   "outputs": [],
   "source": [
    "# Remove all script and style elements\n",
    "for script in soup([\"script\", \"style\"]):\n",
    "    script.extract()"
   ]
  },
  {
   "cell_type": "code",
   "execution_count": 63,
   "metadata": {},
   "outputs": [],
   "source": [
    "# Assign what's left to a string\n",
    "pageText = soup.body.get_text()"
   ]
  },
  {
   "cell_type": "code",
   "execution_count": 94,
   "metadata": {},
   "outputs": [],
   "source": [
    "pageText = unicodedata.normalize(\"NFKD\", pageText) # Normalizing text format"
   ]
  },
  {
   "cell_type": "code",
   "execution_count": 65,
   "metadata": {},
   "outputs": [],
   "source": [
    "# Getting rid of characters in document\n",
    "pageText = \"\".join(c for c in pageText if c not in '!\"#$%&\\'()*+,./:;<=>?@[\\\\]^_`{|}~') "
   ]
  },
  {
   "cell_type": "markdown",
   "metadata": {},
   "source": [
    "### RISK FACTOR SECTION OF DOCUMENT"
   ]
  },
  {
   "cell_type": "code",
   "execution_count": 72,
   "metadata": {},
   "outputs": [
    {
     "name": "stdout",
     "output_type": "stream",
     "text": [
      "None\n"
     ]
    }
   ],
   "source": [
    "# Trying to print the text of the Risk Factor section\n",
    "start = 'ITEM 1A'\n",
    "end = 'ITEM 2'\n",
    "result = re.search('%s(.*)%s' % (start, end), pageText)\n",
    "\n",
    "print(result)"
   ]
  },
  {
   "cell_type": "markdown",
   "metadata": {},
   "source": [
    "# Quick Observation \n",
    "As you can see from the cell above, there are non sections in the text labeled \"Item 1A\" or \"Item 2\". My assumption is that each company files their documents in a different style or order. So trying to pull out a certain section will be a long winded task; something I will have to try when there isn't a deadline to meet. \n",
    "\n",
    "## Next Steps\n",
    "Being that we now have the data we require for our sentiment analysis, now we can move forward the Natural Language Processing steps. Below you will see the code for downloading each companies 10-Qs between 2016-2020. "
   ]
  },
  {
   "cell_type": "markdown",
   "metadata": {},
   "source": [
    "# Natural Languge Processing Steps\n",
    "Since we are working with multiple documents for each company, we will be using TF-IDF. The first thing we will do is create a list of the document paths for each company. The nest thing we will need to do is clean up the documents; removing stops words & punctuations, turning all uppercase letters to lower case. From there a data frame will be created per document. These df are what we will be using for our sentiment analysis.   "
   ]
  },
  {
   "cell_type": "markdown",
   "metadata": {},
   "source": [
    "**3M Co MMM**"
   ]
  },
  {
   "cell_type": "code",
   "execution_count": 75,
   "metadata": {},
   "outputs": [],
   "source": [
    "MMM_Path = [\n",
    "    \"/Users/boimoriba/Documents/Learn.Co_Docs/Projects/Capstone/sec_edgar_filings/MMM/10-Q/0001558370-16-005213.txt\"\n",
    "    \"/Users/boimoriba/Documents/Learn.Co_Docs/Projects/Capstone/sec_edgar_filings/MMM/10-Q/0001558370-16-007105.txt\"\n",
    "    \"/Users/boimoriba/Documents/Learn.Co_Docs/Projects/Capstone/sec_edgar_filings/MMM/10-Q/0001558370-16-008937.txt\"\n",
    "    \"/Users/boimoriba/Documents/Learn.Co_Docs/Projects/Capstone/sec_edgar_filings/MMM/10-Q/0001558370-17-003391.txt\"\n",
    "    \"/Users/boimoriba/Documents/Learn.Co_Docs/Projects/Capstone/sec_edgar_filings/MMM/10-Q/0001558370-17-005582.txt\"\n",
    "    \"/Users/boimoriba/Documents/Learn.Co_Docs/Projects/Capstone/sec_edgar_filings/MMM/10-Q/0001558370-17-007801.txt\"\n",
    "    \"/Users/boimoriba/Documents/Learn.Co_Docs/Projects/Capstone/sec_edgar_filings/MMM/10-Q/0001558370-18-004248.txt\"\n",
    "    \"/Users/boimoriba/Documents/Learn.Co_Docs/Projects/Capstone/sec_edgar_filings/MMM/10-Q/0001558370-18-005773.txt\"\n",
    "    \"/Users/boimoriba/Documents/Learn.Co_Docs/Projects/Capstone/sec_edgar_filings/MMM/10-Q/0001558370-18-007892.txt\"\n",
    "    \"/Users/boimoriba/Documents/Learn.Co_Docs/Projects/Capstone/sec_edgar_filings/MMM/10-Q/0001558370-19-003408.txt\"\n",
    "    \"/Users/boimoriba/Documents/Learn.Co_Docs/Projects/Capstone/sec_edgar_filings/MMM/10-Q/0001558370-19-006397.txt\"\n",
    "    \"/Users/boimoriba/Documents/Learn.Co_Docs/Projects/Capstone/sec_edgar_filings/MMM/10-Q/0001558370-19-009143.txt\"\n",
    "    \"/Users/boimoriba/Documents/Learn.Co_Docs/Projects/Capstone/sec_edgar_filings/MMM/10-Q/0001558370-20-004478.txt\"\n",
    "]"
   ]
  },
  {
   "cell_type": "markdown",
   "metadata": {},
   "source": [
    "**Abbott Laboratories: ABT**"
   ]
  },
  {
   "cell_type": "code",
   "execution_count": 34,
   "metadata": {},
   "outputs": [
    {
     "data": {
      "text/plain": [
       "13"
      ]
     },
     "execution_count": 34,
     "metadata": {},
     "output_type": "execute_result"
    }
   ],
   "source": [
    "# # Get all 10-Q filings (ticker: ABT )\n",
    "# dl.get(\"10-Q\", \"ABT\", after_date=\"20160101\")"
   ]
  },
  {
   "cell_type": "code",
   "execution_count": 76,
   "metadata": {},
   "outputs": [],
   "source": [
    "ABT_Path = [\n",
    "    \"/Users/boimoriba/Documents/Learn.Co_Docs/Projects/Capstone/sec_edgar_filings/ABT/10-Q/0001104659-16-117710.txt\"\n",
    "    \"/Users/boimoriba/Documents/Learn.Co_Docs/Projects/Capstone/sec_edgar_filings/ABT/10-Q/0001104659-16-136572.txt\"\n",
    "    \"/Users/boimoriba/Documents/Learn.Co_Docs/Projects/Capstone/sec_edgar_filings/ABT/10-Q/0001104659-16-154583.txt\"\n",
    "    \"/Users/boimoriba/Documents/Learn.Co_Docs/Projects/Capstone/sec_edgar_filings/ABT/10-Q/0001104659-17-029430.txt\"\n",
    "    \"/Users/boimoriba/Documents/Learn.Co_Docs/Projects/Capstone/sec_edgar_filings/ABT/10-Q/0001104659-17-048855.txt\"\n",
    "    \"/Users/boimoriba/Documents/Learn.Co_Docs/Projects/Capstone/sec_edgar_filings/ABT/10-Q/0001104659-17-065654.txt\"\n",
    "    \"/Users/boimoriba/Documents/Learn.Co_Docs/Projects/Capstone/sec_edgar_filings/ABT/10-Q/0001104659-18-029831.txt\"\n",
    "    \"/Users/boimoriba/Documents/Learn.Co_Docs/Projects/Capstone/sec_edgar_filings/ABT/10-Q/0001104659-18-048736.txt\"\n",
    "    \"/Users/boimoriba/Documents/Learn.Co_Docs/Projects/Capstone/sec_edgar_filings/ABT/10-Q/0001104659-18-065076.txt\"\n",
    "    \"/Users/boimoriba/Documents/Learn.Co_Docs/Projects/Capstone/sec_edgar_filings/ABT/10-Q/0001104659-19-026018.txt\"\n",
    "    \"/Users/boimoriba/Documents/Learn.Co_Docs/Projects/Capstone/sec_edgar_filings/ABT/10-Q/0001104659-19-058323.txt\"\n",
    "    \"/Users/boimoriba/Documents/Learn.Co_Docs/Projects/Capstone/sec_edgar_filings/ABT/10-Q/0001104659-20-053384.txt\"\n",
    "    \"/Users/boimoriba/Documents/Learn.Co_Docs/Projects/Capstone/sec_edgar_filings/ABT/10-Q/0001410578-19-000606.txt\"\n",
    "]"
   ]
  },
  {
   "cell_type": "markdown",
   "metadata": {},
   "source": [
    "**Accenture Plc: ACN**"
   ]
  },
  {
   "cell_type": "code",
   "execution_count": 41,
   "metadata": {},
   "outputs": [
    {
     "data": {
      "text/plain": [
       "13"
      ]
     },
     "execution_count": 41,
     "metadata": {},
     "output_type": "execute_result"
    }
   ],
   "source": [
    "# # Get all 10-Q filings (ticker: ACN )\n",
    "# dl.get(\"10-Q\", \"ACN\", after_date=\"20160101\")"
   ]
  },
  {
   "cell_type": "code",
   "execution_count": 77,
   "metadata": {},
   "outputs": [],
   "source": [
    "ACN_PATH = [\n",
    "    \"/Users/boimoriba/Documents/Learn.Co_Docs/Projects/Capstone/sec_edgar_filings/ACN/10-Q/0001467373-16-000774.txt\"\n",
    "    \"/Users/boimoriba/Documents/Learn.Co_Docs/Projects/Capstone/sec_edgar_filings/ACN/10-Q/0001467373-16-000915.txt\"\n",
    "    \"/Users/boimoriba/Documents/Learn.Co_Docs/Projects/Capstone/sec_edgar_filings/ACN/10-Q/0001467373-16-001180.txt\"\n",
    "    \"/Users/boimoriba/Documents/Learn.Co_Docs/Projects/Capstone/sec_edgar_filings/ACN/10-Q/0001467373-17-000154.txt\"\n",
    "    \"/Users/boimoriba/Documents/Learn.Co_Docs/Projects/Capstone/sec_edgar_filings/ACN/10-Q/0001467373-17-000277.txt\"\n",
    "    \"/Users/boimoriba/Documents/Learn.Co_Docs/Projects/Capstone/sec_edgar_filings/ACN/10-Q/0001467373-17-000506.txt\"\n",
    "    \"/Users/boimoriba/Documents/Learn.Co_Docs/Projects/Capstone/sec_edgar_filings/ACN/10-Q/0001467373-18-000142.txt\"\n",
    "    \"/Users/boimoriba/Documents/Learn.Co_Docs/Projects/Capstone/sec_edgar_filings/ACN/10-Q/0001467373-18-000228.txt\"\n",
    "    \"/Users/boimoriba/Documents/Learn.Co_Docs/Projects/Capstone/sec_edgar_filings/ACN/10-Q/0001467373-18-000424.txt\"\n",
    "    \"/Users/boimoriba/Documents/Learn.Co_Docs/Projects/Capstone/sec_edgar_filings/ACN/10-Q/0001467373-19-000130.txt\"\n",
    "    \"/Users/boimoriba/Documents/Learn.Co_Docs/Projects/Capstone/sec_edgar_filings/ACN/10-Q/0001467373-19-000217.txt\"\n",
    "    \"/Users/boimoriba/Documents/Learn.Co_Docs/Projects/Capstone/sec_edgar_filings/ACN/10-Q/0001467373-19-000395.txt\"\n",
    "    \"/Users/boimoriba/Documents/Learn.Co_Docs/Projects/Capstone/sec_edgar_filings/ACN/10-Q/0001467373-20-000158.txt\"\n",
    "]"
   ]
  },
  {
   "cell_type": "markdown",
   "metadata": {},
   "source": [
    "**Allegiant Travel Co: ALGT**"
   ]
  },
  {
   "cell_type": "code",
   "execution_count": 36,
   "metadata": {},
   "outputs": [
    {
     "data": {
      "text/plain": [
       "12"
      ]
     },
     "execution_count": 36,
     "metadata": {},
     "output_type": "execute_result"
    }
   ],
   "source": [
    "# # Get all 10-Q filings (ticker: ALGT )\n",
    "# dl.get(\"10-Q\", \"ALGT\", after_date=\"20160101\")"
   ]
  },
  {
   "cell_type": "code",
   "execution_count": 78,
   "metadata": {},
   "outputs": [],
   "source": [
    "ALGT_Path = [\n",
    "    \"/Users/boimoriba/Documents/Learn.Co_Docs/Projects/Capstone/sec_edgar_filings/ALGT/10-Q/0001362468-16-000060.txt\"\n",
    "    \"/Users/boimoriba/Documents/Learn.Co_Docs/Projects/Capstone/sec_edgar_filings/ALGT/10-Q/0001362468-16-000074.txt\"\n",
    "    \"/Users/boimoriba/Documents/Learn.Co_Docs/Projects/Capstone/sec_edgar_filings/ALGT/10-Q/0001362468-16-000096.txt\"\n",
    "    \"/Users/boimoriba/Documents/Learn.Co_Docs/Projects/Capstone/sec_edgar_filings/ALGT/10-Q/0001362468-17-000014.txt\"\n",
    "    \"/Users/boimoriba/Documents/Learn.Co_Docs/Projects/Capstone/sec_edgar_filings/ALGT/10-Q/0001362468-17-000033.txt\"\n",
    "    \"/Users/boimoriba/Documents/Learn.Co_Docs/Projects/Capstone/sec_edgar_filings/ALGT/10-Q/0001362468-17-000053.txt\"\n",
    "    \"/Users/boimoriba/Documents/Learn.Co_Docs/Projects/Capstone/sec_edgar_filings/ALGT/10-Q/0001362468-18-000016.txt\"\n",
    "    \"/Users/boimoriba/Documents/Learn.Co_Docs/Projects/Capstone/sec_edgar_filings/ALGT/10-Q/0001362468-18-000033.txt\"\n",
    "    \"/Users/boimoriba/Documents/Learn.Co_Docs/Projects/Capstone/sec_edgar_filings/ALGT/10-Q/0001362468-18-000047.txt\"\n",
    "    \"/Users/boimoriba/Documents/Learn.Co_Docs/Projects/Capstone/sec_edgar_filings/ALGT/10-Q/0001362468-19-000023.txt\"\n",
    "    \"/Users/boimoriba/Documents/Learn.Co_Docs/Projects/Capstone/sec_edgar_filings/ALGT/10-Q/0001362468-19-000036.txt\"\n",
    "    \"/Users/boimoriba/Documents/Learn.Co_Docs/Projects/Capstone/sec_edgar_filings/ALGT/10-Q/0001362468-19-000047.txt\"\n",
    "]"
   ]
  },
  {
   "cell_type": "markdown",
   "metadata": {},
   "source": [
    "**Baker Hughes Co: BKR**"
   ]
  },
  {
   "cell_type": "code",
   "execution_count": 45,
   "metadata": {},
   "outputs": [
    {
     "data": {
      "text/plain": [
       "9"
      ]
     },
     "execution_count": 45,
     "metadata": {},
     "output_type": "execute_result"
    }
   ],
   "source": [
    "# # Get all 10-Q filings (ticker: BKR )\n",
    "# dl.get(\"10-Q\", \"BKR\", after_date=\"20160101\")"
   ]
  },
  {
   "cell_type": "code",
   "execution_count": 79,
   "metadata": {},
   "outputs": [],
   "source": [
    "BKR_Path = [\n",
    "    \"/Users/boimoriba/Documents/Learn.Co_Docs/Projects/Capstone/sec_edgar_filings/BKR/10-Q/0001701605-17-000066.txt\"\n",
    "    \"/Users/boimoriba/Documents/Learn.Co_Docs/Projects/Capstone/sec_edgar_filings/BKR/10-Q/0001701605-17-000100.txt\"\n",
    "    \"/Users/boimoriba/Documents/Learn.Co_Docs/Projects/Capstone/sec_edgar_filings/BKR/10-Q/0001701605-18-000052.txt\"\n",
    "    \"/Users/boimoriba/Documents/Learn.Co_Docs/Projects/Capstone/sec_edgar_filings/BKR/10-Q/0001701605-18-000082.txt\"\n",
    "    \"/Users/boimoriba/Documents/Learn.Co_Docs/Projects/Capstone/sec_edgar_filings/BKR/10-Q/0001701605-18-000103.txt\"\n",
    "    \"/Users/boimoriba/Documents/Learn.Co_Docs/Projects/Capstone/sec_edgar_filings/BKR/10-Q/0001701605-19-000038.txt\"\n",
    "    \"/Users/boimoriba/Documents/Learn.Co_Docs/Projects/Capstone/sec_edgar_filings/BKR/10-Q/0001701605-19-000058.txt\"\n",
    "    \"/Users/boimoriba/Documents/Learn.Co_Docs/Projects/Capstone/sec_edgar_filings/BKR/10-Q/0001701605-19-000089.txt\"\n",
    "    \"/Users/boimoriba/Documents/Learn.Co_Docs/Projects/Capstone/sec_edgar_filings/BKR/10-Q/0001701605-20-000039.txt\"\n",
    "]"
   ]
  },
  {
   "cell_type": "markdown",
   "metadata": {},
   "source": [
    "**Baxter International Inc: BAX**"
   ]
  },
  {
   "cell_type": "code",
   "execution_count": 46,
   "metadata": {},
   "outputs": [
    {
     "data": {
      "text/plain": [
       "13"
      ]
     },
     "execution_count": 46,
     "metadata": {},
     "output_type": "execute_result"
    }
   ],
   "source": [
    "# # Get all 10-Q filings (ticker: BAX )\n",
    "# dl.get(\"10-Q\", \"BAX\", after_date=\"20160101\")"
   ]
  },
  {
   "cell_type": "code",
   "execution_count": 80,
   "metadata": {},
   "outputs": [],
   "source": [
    "BAX_Path = [\n",
    "    \"/Users/boimoriba/Documents/Learn.Co_Docs/Projects/Capstone/sec_edgar_filings/BAX/10-Q/0001193125-16-582011.txt\"\n",
    "    \"/Users/boimoriba/Documents/Learn.Co_Docs/Projects/Capstone/sec_edgar_filings/BAX/10-Q/0001193125-16-671951.txt\"\n",
    "    \"/Users/boimoriba/Documents/Learn.Co_Docs/Projects/Capstone/sec_edgar_filings/BAX/10-Q/0001193125-16-761818.txt\"\n",
    "    \"/Users/boimoriba/Documents/Learn.Co_Docs/Projects/Capstone/sec_edgar_filings/BAX/10-Q/0001564590-17-008816.txt\"\n",
    "    \"/Users/boimoriba/Documents/Learn.Co_Docs/Projects/Capstone/sec_edgar_filings/BAX/10-Q/0001564590-17-016031.txt\"\n",
    "    \"/Users/boimoriba/Documents/Learn.Co_Docs/Projects/Capstone/sec_edgar_filings/BAX/10-Q/0001564590-17-021241.txt\"\n",
    "    \"/Users/boimoriba/Documents/Learn.Co_Docs/Projects/Capstone/sec_edgar_filings/BAX/10-Q/0001564590-18-012452.txt\"\n",
    "    \"/Users/boimoriba/Documents/Learn.Co_Docs/Projects/Capstone/sec_edgar_filings/BAX/10-Q/0001564590-18-019429.txt\"\n",
    "    \"/Users/boimoriba/Documents/Learn.Co_Docs/Projects/Capstone/sec_edgar_filings/BAX/10-Q/0001564590-18-026904.txt\"\n",
    "    \"/Users/boimoriba/Documents/Learn.Co_Docs/Projects/Capstone/sec_edgar_filings/BAX/10-Q/0001564590-19-016660.txt\"\n",
    "    \"/Users/boimoriba/Documents/Learn.Co_Docs/Projects/Capstone/sec_edgar_filings/BAX/10-Q/0001564590-19-027020.txt\"\n",
    "    \"/Users/boimoriba/Documents/Learn.Co_Docs/Projects/Capstone/sec_edgar_filings/BAX/10-Q/0001628280-20-003692.txt\"\n",
    "    \"/Users/boimoriba/Documents/Learn.Co_Docs/Projects/Capstone/sec_edgar_filings/BAX/10-Q/0001628280-20-005903.txt\"\n",
    "]"
   ]
  },
  {
   "cell_type": "markdown",
   "metadata": {},
   "source": [
    "**Boeing Co: BA**"
   ]
  },
  {
   "cell_type": "code",
   "execution_count": 44,
   "metadata": {},
   "outputs": [
    {
     "data": {
      "text/plain": [
       "13"
      ]
     },
     "execution_count": 44,
     "metadata": {},
     "output_type": "execute_result"
    }
   ],
   "source": [
    "# # Get all 10-Q filings (ticker: BA )\n",
    "# dl.get(\"10-Q\", \"BA\", after_date=\"20160101\")"
   ]
  },
  {
   "cell_type": "code",
   "execution_count": 81,
   "metadata": {},
   "outputs": [],
   "source": [
    "BA_Path = [\n",
    "    \"/Users/boimoriba/Documents/Learn.Co_Docs/Projects/Capstone/sec_edgar_filings/BA/10-Q/0000012927-16-000113.txt\"\n",
    "    \"/Users/boimoriba/Documents/Learn.Co_Docs/Projects/Capstone/sec_edgar_filings/BA/10-Q/0000012927-16-000143.txt\"\n",
    "    \"/Users/boimoriba/Documents/Learn.Co_Docs/Projects/Capstone/sec_edgar_filings/BA/10-Q/0000012927-16-000153.txt\"\n",
    "    \"/Users/boimoriba/Documents/Learn.Co_Docs/Projects/Capstone/sec_edgar_filings/BA/10-Q/0000012927-17-000024.txt\"\n",
    "    \"/Users/boimoriba/Documents/Learn.Co_Docs/Projects/Capstone/sec_edgar_filings/BA/10-Q/0000012927-17-000044.txt\"\n",
    "    \"/Users/boimoriba/Documents/Learn.Co_Docs/Projects/Capstone/sec_edgar_filings/BA/10-Q/0000012927-17-000073.txt\"\n",
    "    \"/Users/boimoriba/Documents/Learn.Co_Docs/Projects/Capstone/sec_edgar_filings/BA/10-Q/0000012927-18-000018.txt\"\n",
    "    \"/Users/boimoriba/Documents/Learn.Co_Docs/Projects/Capstone/sec_edgar_filings/BA/10-Q/0000012927-18-000048.txt\"\n",
    "    \"/Users/boimoriba/Documents/Learn.Co_Docs/Projects/Capstone/sec_edgar_filings/BA/10-Q/0000012927-18-000065.txt\"\n",
    "    \"/Users/boimoriba/Documents/Learn.Co_Docs/Projects/Capstone/sec_edgar_filings/BA/10-Q/0000012927-19-000030.txt\"\n",
    "    \"/Users/boimoriba/Documents/Learn.Co_Docs/Projects/Capstone/sec_edgar_filings/BA/10-Q/0000012927-19-000063.txt\"\n",
    "    \"/Users/boimoriba/Documents/Learn.Co_Docs/Projects/Capstone/sec_edgar_filings/BA/10-Q/0000012927-19-000077.txt\"\n",
    "    \"/Users/boimoriba/Documents/Learn.Co_Docs/Projects/Capstone/sec_edgar_filings/BA/10-Q/0000012927-20-000045.txt\"\n",
    "]"
   ]
  },
  {
   "cell_type": "markdown",
   "metadata": {},
   "source": [
    "**Devon Energy Corp: DVN**"
   ]
  },
  {
   "cell_type": "code",
   "execution_count": 43,
   "metadata": {},
   "outputs": [
    {
     "data": {
      "text/plain": [
       "13"
      ]
     },
     "execution_count": 43,
     "metadata": {},
     "output_type": "execute_result"
    }
   ],
   "source": [
    "# # Get all 10-Q filings (ticker: DVN )\n",
    "# dl.get(\"10-Q\", \"DVN\", after_date=\"20160101\")"
   ]
  },
  {
   "cell_type": "code",
   "execution_count": 82,
   "metadata": {},
   "outputs": [],
   "source": [
    "DVN_Path = [\n",
    "    \"/Users/boimoriba/Documents/Learn.Co_Docs/Projects/Capstone/sec_edgar_filings/DVN/10-Q/0001193125-16-577021.txt\"\n",
    "    \"/Users/boimoriba/Documents/Learn.Co_Docs/Projects/Capstone/sec_edgar_filings/DVN/10-Q/0001564590-16-022255.txt\"\n",
    "    \"/Users/boimoriba/Documents/Learn.Co_Docs/Projects/Capstone/sec_edgar_filings/DVN/10-Q/0001564590-16-026889.txt\"\n",
    "    \"/Users/boimoriba/Documents/Learn.Co_Docs/Projects/Capstone/sec_edgar_filings/DVN/10-Q/0001564590-17-008268.txt\"\n",
    "    \"/Users/boimoriba/Documents/Learn.Co_Docs/Projects/Capstone/sec_edgar_filings/DVN/10-Q/0001564590-17-014800.txt\"\n",
    "    \"/Users/boimoriba/Documents/Learn.Co_Docs/Projects/Capstone/sec_edgar_filings/DVN/10-Q/0001564590-17-020684.txt\"\n",
    "    \"/Users/boimoriba/Documents/Learn.Co_Docs/Projects/Capstone/sec_edgar_filings/DVN/10-Q/0001564590-18-010177.txt\"\n",
    "    \"/Users/boimoriba/Documents/Learn.Co_Docs/Projects/Capstone/sec_edgar_filings/DVN/10-Q/0001564590-18-018317.txt\"\n",
    "    \"/Users/boimoriba/Documents/Learn.Co_Docs/Projects/Capstone/sec_edgar_filings/DVN/10-Q/0001564590-18-027813.txt\"\n",
    "    \"/Users/boimoriba/Documents/Learn.Co_Docs/Projects/Capstone/sec_edgar_filings/DVN/10-Q/0001564590-19-014637.txt\"\n",
    "    \"/Users/boimoriba/Documents/Learn.Co_Docs/Projects/Capstone/sec_edgar_filings/DVN/10-Q/0001564590-19-029786.txt\"\n",
    "    \"/Users/boimoriba/Documents/Learn.Co_Docs/Projects/Capstone/sec_edgar_filings/DVN/10-Q/0001564590-19-040774.txt\"\n",
    "    \"/Users/boimoriba/Documents/Learn.Co_Docs/Projects/Capstone/sec_edgar_filings/DVN/10-Q/0001564590-20-021639.txt\"\n",
    "]"
   ]
  },
  {
   "cell_type": "markdown",
   "metadata": {},
   "source": [
    "**Goldman Sachs Group Inc: GS**"
   ]
  },
  {
   "cell_type": "code",
   "execution_count": 42,
   "metadata": {},
   "outputs": [
    {
     "data": {
      "text/plain": [
       "13"
      ]
     },
     "execution_count": 42,
     "metadata": {},
     "output_type": "execute_result"
    }
   ],
   "source": [
    "# # Get all 10-Q filings (ticker: GS )\n",
    "# dl.get(\"10-Q\", \"GS\", after_date=\"20160101\")"
   ]
  },
  {
   "cell_type": "code",
   "execution_count": 83,
   "metadata": {},
   "outputs": [],
   "source": [
    "GS_Path = [\n",
    "    \"/Users/boimoriba/Documents/Learn.Co_Docs/Projects/Capstone/sec_edgar_filings/GS/10-Q/0001193125-16-580382.txt\"\n",
    "    \"/Users/boimoriba/Documents/Learn.Co_Docs/Projects/Capstone/sec_edgar_filings/GS/10-Q/0001193125-16-670394.txt\"\n",
    "    \"/Users/boimoriba/Documents/Learn.Co_Docs/Projects/Capstone/sec_edgar_filings/GS/10-Q/0001193125-16-757421.txt\"\n",
    "    \"/Users/boimoriba/Documents/Learn.Co_Docs/Projects/Capstone/sec_edgar_filings/GS/10-Q/0001193125-17-156659.txt\"\n",
    "    \"/Users/boimoriba/Documents/Learn.Co_Docs/Projects/Capstone/sec_edgar_filings/GS/10-Q/0001193125-17-247803.txt\"\n",
    "    \"/Users/boimoriba/Documents/Learn.Co_Docs/Projects/Capstone/sec_edgar_filings/GS/10-Q/0001193125-17-331475.txt\"\n",
    "    \"/Users/boimoriba/Documents/Learn.Co_Docs/Projects/Capstone/sec_edgar_filings/GS/10-Q/0001193125-18-151188.txt\"\n",
    "    \"/Users/boimoriba/Documents/Learn.Co_Docs/Projects/Capstone/sec_edgar_filings/GS/10-Q/0001193125-18-236920.txt\"\n",
    "    \"/Users/boimoriba/Documents/Learn.Co_Docs/Projects/Capstone/sec_edgar_filings/GS/10-Q/0001193125-18-317325.txt\"\n",
    "    \"/Users/boimoriba/Documents/Learn.Co_Docs/Projects/Capstone/sec_edgar_filings/GS/10-Q/0001193125-19-137184.txt\"\n",
    "    \"/Users/boimoriba/Documents/Learn.Co_Docs/Projects/Capstone/sec_edgar_filings/GS/10-Q/0001193125-19-212578.txt\"\n",
    "    \"/Users/boimoriba/Documents/Learn.Co_Docs/Projects/Capstone/sec_edgar_filings/GS/10-Q/0001193125-19-280752.txt\"\n",
    "    \"/Users/boimoriba/Documents/Learn.Co_Docs/Projects/Capstone/sec_edgar_filings/GS/10-Q/0001193125-20-129324.txt\"\n",
    "]"
   ]
  },
  {
   "cell_type": "markdown",
   "metadata": {},
   "source": [
    "**Johnson & Johnson: JNJ**"
   ]
  },
  {
   "cell_type": "code",
   "execution_count": 47,
   "metadata": {},
   "outputs": [
    {
     "data": {
      "text/plain": [
       "13"
      ]
     },
     "execution_count": 47,
     "metadata": {},
     "output_type": "execute_result"
    }
   ],
   "source": [
    "# # Get all 10-Q filings (ticker: JNJ )\n",
    "# dl.get(\"10-Q\", \"JNJ\", after_date=\"20160101\")"
   ]
  },
  {
   "cell_type": "code",
   "execution_count": 84,
   "metadata": {},
   "outputs": [],
   "source": [
    "JNJ_Path = [\n",
    "    \"/Users/boimoriba/Documents/Learn.Co_Docs/Projects/Capstone/sec_edgar_filings/JNJ/10-Q/0000200406-16-000084.txt\"\n",
    "    \"/Users/boimoriba/Documents/Learn.Co_Docs/Projects/Capstone/sec_edgar_filings/JNJ/10-Q/0000200406-16-000105.txt\"\n",
    "    \"/Users/boimoriba/Documents/Learn.Co_Docs/Projects/Capstone/sec_edgar_filings/JNJ/10-Q/0000200406-16-000112.txt\"\n",
    "    \"/Users/boimoriba/Documents/Learn.Co_Docs/Projects/Capstone/sec_edgar_filings/JNJ/10-Q/0000200406-17-000024.txt\"\n",
    "    \"/Users/boimoriba/Documents/Learn.Co_Docs/Projects/Capstone/sec_edgar_filings/JNJ/10-Q/0000200406-17-000042.txt\"\n",
    "    \"/Users/boimoriba/Documents/Learn.Co_Docs/Projects/Capstone/sec_edgar_filings/JNJ/10-Q/0000200406-17-000052.txt\"\n",
    "    \"/Users/boimoriba/Documents/Learn.Co_Docs/Projects/Capstone/sec_edgar_filings/JNJ/10-Q/0000200406-18-000019.txt\"\n",
    "    \"/Users/boimoriba/Documents/Learn.Co_Docs/Projects/Capstone/sec_edgar_filings/JNJ/10-Q/0000200406-18-000041.txt\"\n",
    "    \"/Users/boimoriba/Documents/Learn.Co_Docs/Projects/Capstone/sec_edgar_filings/JNJ/10-Q/0000200406-18-000055.txt\"\n",
    "    \"/Users/boimoriba/Documents/Learn.Co_Docs/Projects/Capstone/sec_edgar_filings/JNJ/10-Q/0000200406-19-000033.txt\"\n",
    "    \"/Users/boimoriba/Documents/Learn.Co_Docs/Projects/Capstone/sec_edgar_filings/JNJ/10-Q/0000200406-19-000053.txt\"\n",
    "    \"/Users/boimoriba/Documents/Learn.Co_Docs/Projects/Capstone/sec_edgar_filings/JNJ/10-Q/0000200406-19-000066.txt\"\n",
    "    \"/Users/boimoriba/Documents/Learn.Co_Docs/Projects/Capstone/sec_edgar_filings/JNJ/10-Q/0000200406-20-000035.txt\"\n",
    "]"
   ]
  },
  {
   "cell_type": "markdown",
   "metadata": {},
   "source": [
    "**Mastercard Inc: MA**"
   ]
  },
  {
   "cell_type": "code",
   "execution_count": 48,
   "metadata": {},
   "outputs": [
    {
     "data": {
      "text/plain": [
       "13"
      ]
     },
     "execution_count": 48,
     "metadata": {},
     "output_type": "execute_result"
    }
   ],
   "source": [
    "# # Get all 10-Q filings (ticker: MA )\n",
    "# dl.get(\"10-Q\", \"MA\", after_date=\"20160101\")"
   ]
  },
  {
   "cell_type": "code",
   "execution_count": 85,
   "metadata": {},
   "outputs": [],
   "source": [
    "MA_Path = [\n",
    "    \"/Users/boimoriba/Documents/Learn.Co_Docs/Projects/Capstone/sec_edgar_filings/MA/10-Q/0001141391-16-000135.txt\"\n",
    "    \"/Users/boimoriba/Documents/Learn.Co_Docs/Projects/Capstone/sec_edgar_filings/MA/10-Q/0001141391-16-000207.txt\"\n",
    "    \"/Users/boimoriba/Documents/Learn.Co_Docs/Projects/Capstone/sec_edgar_filings/MA/10-Q/0001141391-16-000235.txt\"\n",
    "    \"/Users/boimoriba/Documents/Learn.Co_Docs/Projects/Capstone/sec_edgar_filings/MA/10-Q/0001141391-17-000063.txt\"\n",
    "    \"/Users/boimoriba/Documents/Learn.Co_Docs/Projects/Capstone/sec_edgar_filings/MA/10-Q/0001141391-17-000125.txt\"\n",
    "    \"/Users/boimoriba/Documents/Learn.Co_Docs/Projects/Capstone/sec_edgar_filings/MA/10-Q/0001141391-17-000152.txt\"\n",
    "    \"/Users/boimoriba/Documents/Learn.Co_Docs/Projects/Capstone/sec_edgar_filings/MA/10-Q/0001141391-18-000056.txt\"\n",
    "    \"/Users/boimoriba/Documents/Learn.Co_Docs/Projects/Capstone/sec_edgar_filings/MA/10-Q/0001141391-18-000111.txt\"\n",
    "    \"/Users/boimoriba/Documents/Learn.Co_Docs/Projects/Capstone/sec_edgar_filings/MA/10-Q/0001141391-18-000127.txt\"\n",
    "    \"/Users/boimoriba/Documents/Learn.Co_Docs/Projects/Capstone/sec_edgar_filings/MA/10-Q/0001141391-19-000076.txt\"\n",
    "    \"/Users/boimoriba/Documents/Learn.Co_Docs/Projects/Capstone/sec_edgar_filings/MA/10-Q/0001141391-19-000128.txt\"\n",
    "    \"/Users/boimoriba/Documents/Learn.Co_Docs/Projects/Capstone/sec_edgar_filings/MA/10-Q/0001141391-19-000150.txt\"\n",
    "    \"/Users/boimoriba/Documents/Learn.Co_Docs/Projects/Capstone/sec_edgar_filings/MA/10-Q/0001141391-20-000091.txt\"\n",
    "]"
   ]
  },
  {
   "cell_type": "markdown",
   "metadata": {},
   "source": [
    "**Morgan Stanley: MS**"
   ]
  },
  {
   "cell_type": "code",
   "execution_count": 49,
   "metadata": {},
   "outputs": [
    {
     "data": {
      "text/plain": [
       "13"
      ]
     },
     "execution_count": 49,
     "metadata": {},
     "output_type": "execute_result"
    }
   ],
   "source": [
    "# # Get all 10-Q filings (ticker: MS )\n",
    "# dl.get(\"10-Q\", \"MS\", after_date=\"20160101\")"
   ]
  },
  {
   "cell_type": "code",
   "execution_count": 86,
   "metadata": {},
   "outputs": [],
   "source": [
    "MS_Path = [\n",
    "    \"/Users/boimoriba/Documents/Learn.Co_Docs/Projects/Capstone/sec_edgar_filings/MS/10-Q/0000895421-20-000323.txt\"\n",
    "    \"/Users/boimoriba/Documents/Learn.Co_Docs/Projects/Capstone/sec_edgar_filings/MS/10-Q/0001193125-16-577875.txt\"\n",
    "    \"/Users/boimoriba/Documents/Learn.Co_Docs/Projects/Capstone/sec_edgar_filings/MS/10-Q/0001193125-16-670066.txt\"\n",
    "    \"/Users/boimoriba/Documents/Learn.Co_Docs/Projects/Capstone/sec_edgar_filings/MS/10-Q/0001193125-16-757027.txt\"\n",
    "    \"/Users/boimoriba/Documents/Learn.Co_Docs/Projects/Capstone/sec_edgar_filings/MS/10-Q/0001193125-17-158668.txt\"\n",
    "    \"/Users/boimoriba/Documents/Learn.Co_Docs/Projects/Capstone/sec_edgar_filings/MS/10-Q/0001193125-17-247402.txt\"\n",
    "    \"/Users/boimoriba/Documents/Learn.Co_Docs/Projects/Capstone/sec_edgar_filings/MS/10-Q/0001193125-17-331902.txt\"\n",
    "    \"/Users/boimoriba/Documents/Learn.Co_Docs/Projects/Capstone/sec_edgar_filings/MS/10-Q/0001193125-18-152899.txt\"\n",
    "    \"/Users/boimoriba/Documents/Learn.Co_Docs/Projects/Capstone/sec_edgar_filings/MS/10-Q/0001193125-18-238269.txt\"\n",
    "    \"/Users/boimoriba/Documents/Learn.Co_Docs/Projects/Capstone/sec_edgar_filings/MS/10-Q/0001193125-18-318377.txt\"\n",
    "    \"/Users/boimoriba/Documents/Learn.Co_Docs/Projects/Capstone/sec_edgar_filings/MS/10-Q/0001193125-19-136929.txt\"\n",
    "    \"/Users/boimoriba/Documents/Learn.Co_Docs/Projects/Capstone/sec_edgar_filings/MS/10-Q/0001628280-19-009973.txt\"\n",
    "    \"/Users/boimoriba/Documents/Learn.Co_Docs/Projects/Capstone/sec_edgar_filings/MS/10-Q/0001628280-19-013331.txt\"\n",
    "]"
   ]
  },
  {
   "cell_type": "markdown",
   "metadata": {},
   "source": [
    "**Philip Morris International Inc.: PM**"
   ]
  },
  {
   "cell_type": "code",
   "execution_count": 50,
   "metadata": {},
   "outputs": [
    {
     "data": {
      "text/plain": [
       "13"
      ]
     },
     "execution_count": 50,
     "metadata": {},
     "output_type": "execute_result"
    }
   ],
   "source": [
    "# # Get all 10-Q filings (ticker: PM )\n",
    "# dl.get(\"10-Q\", \"PM\", after_date=\"20160101\")"
   ]
  },
  {
   "cell_type": "code",
   "execution_count": 87,
   "metadata": {},
   "outputs": [],
   "source": [
    "PM_Path = [\n",
    "    \"/Users/boimoriba/Documents/Learn.Co_Docs/Projects/Capstone/sec_edgar_filings/PM/10-Q/0001413329-16-000082.txt\"\n",
    "    \"/Users/boimoriba/Documents/Learn.Co_Docs/Projects/Capstone/sec_edgar_filings/PM/10-Q/0001413329-16-000096.txt\"\n",
    "    \"/Users/boimoriba/Documents/Learn.Co_Docs/Projects/Capstone/sec_edgar_filings/PM/10-Q/0001413329-16-000105.txt\"\n",
    "    \"/Users/boimoriba/Documents/Learn.Co_Docs/Projects/Capstone/sec_edgar_filings/PM/10-Q/0001413329-17-000023.txt\"\n",
    "    \"/Users/boimoriba/Documents/Learn.Co_Docs/Projects/Capstone/sec_edgar_filings/PM/10-Q/0001413329-17-000043.txt\"\n",
    "    \"/Users/boimoriba/Documents/Learn.Co_Docs/Projects/Capstone/sec_edgar_filings/PM/10-Q/0001413329-17-000054.txt\"\n",
    "    \"/Users/boimoriba/Documents/Learn.Co_Docs/Projects/Capstone/sec_edgar_filings/PM/10-Q/0001413329-18-000023.txt\"\n",
    "    \"/Users/boimoriba/Documents/Learn.Co_Docs/Projects/Capstone/sec_edgar_filings/PM/10-Q/0001413329-18-000039.txt\"\n",
    "    \"/Users/boimoriba/Documents/Learn.Co_Docs/Projects/Capstone/sec_edgar_filings/PM/10-Q/0001413329-18-000053.txt\"\n",
    "    \"/Users/boimoriba/Documents/Learn.Co_Docs/Projects/Capstone/sec_edgar_filings/PM/10-Q/0001413329-19-000034.txt\"\n",
    "    \"/Users/boimoriba/Documents/Learn.Co_Docs/Projects/Capstone/sec_edgar_filings/PM/10-Q/0001413329-19-000055.txt\"\n",
    "    \"/Users/boimoriba/Documents/Learn.Co_Docs/Projects/Capstone/sec_edgar_filings/PM/10-Q/0001413329-19-000071.txt\"\n",
    "    \"/Users/boimoriba/Documents/Learn.Co_Docs/Projects/Capstone/sec_edgar_filings/PM/10-Q/0001413329-20-000032.txt\"\n",
    "]"
   ]
  },
  {
   "cell_type": "markdown",
   "metadata": {},
   "source": [
    "**Prudential Financial Inc: PRU**"
   ]
  },
  {
   "cell_type": "code",
   "execution_count": 51,
   "metadata": {},
   "outputs": [
    {
     "data": {
      "text/plain": [
       "13"
      ]
     },
     "execution_count": 51,
     "metadata": {},
     "output_type": "execute_result"
    }
   ],
   "source": [
    "# # Get all 10-Q filings (ticker: PRU )\n",
    "# dl.get(\"10-Q\", \"PRU\", after_date=\"20160101\")"
   ]
  },
  {
   "cell_type": "code",
   "execution_count": 88,
   "metadata": {},
   "outputs": [],
   "source": [
    "PRU_Path = [\n",
    "    \"/Users/boimoriba/Documents/Learn.Co_Docs/Projects/Capstone/sec_edgar_filings/PRU/10-Q/0001137774-16-000243.txt\"\n",
    "    \"/Users/boimoriba/Documents/Learn.Co_Docs/Projects/Capstone/sec_edgar_filings/PRU/10-Q/0001137774-16-000256.txt\"\n",
    "    \"/Users/boimoriba/Documents/Learn.Co_Docs/Projects/Capstone/sec_edgar_filings/PRU/10-Q/0001137774-16-000266.txt\"\n",
    "    \"/Users/boimoriba/Documents/Learn.Co_Docs/Projects/Capstone/sec_edgar_filings/PRU/10-Q/0001137774-17-000092.txt\"\n",
    "    \"/Users/boimoriba/Documents/Learn.Co_Docs/Projects/Capstone/sec_edgar_filings/PRU/10-Q/0001137774-17-000104.txt\"\n",
    "    \"/Users/boimoriba/Documents/Learn.Co_Docs/Projects/Capstone/sec_edgar_filings/PRU/10-Q/0001137774-17-000119.txt\"\n",
    "    \"/Users/boimoriba/Documents/Learn.Co_Docs/Projects/Capstone/sec_edgar_filings/PRU/10-Q/0001137774-18-000075.txt\"\n",
    "    \"/Users/boimoriba/Documents/Learn.Co_Docs/Projects/Capstone/sec_edgar_filings/PRU/10-Q/0001137774-18-000082.txt\"\n",
    "    \"/Users/boimoriba/Documents/Learn.Co_Docs/Projects/Capstone/sec_edgar_filings/PRU/10-Q/0001137774-18-000099.txt\"\n",
    "    \"/Users/boimoriba/Documents/Learn.Co_Docs/Projects/Capstone/sec_edgar_filings/PRU/10-Q/0001137774-19-000070.txt\"\n",
    "    \"/Users/boimoriba/Documents/Learn.Co_Docs/Projects/Capstone/sec_edgar_filings/PRU/10-Q/0001137774-19-000086.txt\"\n",
    "    \"/Users/boimoriba/Documents/Learn.Co_Docs/Projects/Capstone/sec_edgar_filings/PRU/10-Q/0001137774-19-000099.txt\"\n",
    "    \"/Users/boimoriba/Documents/Learn.Co_Docs/Projects/Capstone/sec_edgar_filings/PRU/10-Q/0001137774-20-000084.txt\"\n",
    "]"
   ]
  },
  {
   "cell_type": "markdown",
   "metadata": {},
   "source": [
    "**Raytheon Technologies Corp: RTX**"
   ]
  },
  {
   "cell_type": "code",
   "execution_count": 52,
   "metadata": {},
   "outputs": [
    {
     "data": {
      "text/plain": [
       "13"
      ]
     },
     "execution_count": 52,
     "metadata": {},
     "output_type": "execute_result"
    }
   ],
   "source": [
    "# # Get all 10-Q filings (ticker: RTX )\n",
    "# dl.get(\"10-Q\", \"RTX\", after_date=\"20160101\")"
   ]
  },
  {
   "cell_type": "code",
   "execution_count": 89,
   "metadata": {},
   "outputs": [],
   "source": [
    "RTX_Path = [\n",
    "    \"/Users/boimoriba/Documents/Learn.Co_Docs/Projects/Capstone/sec_edgar_filings/RTX/10-Q/0000101829-16-000062.txt\"\n",
    "    \"/Users/boimoriba/Documents/Learn.Co_Docs/Projects/Capstone/sec_edgar_filings/RTX/10-Q/0000101829-16-000080.txt\"\n",
    "    \"/Users/boimoriba/Documents/Learn.Co_Docs/Projects/Capstone/sec_edgar_filings/RTX/10-Q/0000101829-16-000091.txt\"\n",
    "    \"/Users/boimoriba/Documents/Learn.Co_Docs/Projects/Capstone/sec_edgar_filings/RTX/10-Q/0000101829-17-000016.txt\"\n",
    "    \"/Users/boimoriba/Documents/Learn.Co_Docs/Projects/Capstone/sec_edgar_filings/RTX/10-Q/0000101829-17-000034.txt\"\n",
    "    \"/Users/boimoriba/Documents/Learn.Co_Docs/Projects/Capstone/sec_edgar_filings/RTX/10-Q/0000101829-17-000044.txt\"\n",
    "    \"/Users/boimoriba/Documents/Learn.Co_Docs/Projects/Capstone/sec_edgar_filings/RTX/10-Q/0000101829-18-000009.txt\"\n",
    "    \"/Users/boimoriba/Documents/Learn.Co_Docs/Projects/Capstone/sec_edgar_filings/RTX/10-Q/0000101829-18-000027.txt\"\n",
    "    \"/Users/boimoriba/Documents/Learn.Co_Docs/Projects/Capstone/sec_edgar_filings/RTX/10-Q/0000101829-18-000043.txt\"\n",
    "    \"/Users/boimoriba/Documents/Learn.Co_Docs/Projects/Capstone/sec_edgar_filings/RTX/10-Q/0000101829-19-000016.txt\"\n",
    "    \"/Users/boimoriba/Documents/Learn.Co_Docs/Projects/Capstone/sec_edgar_filings/RTX/10-Q/0000101829-19-000038.txt\"\n",
    "    \"/Users/boimoriba/Documents/Learn.Co_Docs/Projects/Capstone/sec_edgar_filings/RTX/10-Q/0000101829-19-000047.txt\"\n",
    "    \"/Users/boimoriba/Documents/Learn.Co_Docs/Projects/Capstone/sec_edgar_filings/RTX/10-Q/0000101829-20-000034.txt\"\n",
    "]"
   ]
  },
  {
   "cell_type": "markdown",
   "metadata": {},
   "source": [
    "**Simon Property Group Inc: SPG**"
   ]
  },
  {
   "cell_type": "code",
   "execution_count": 53,
   "metadata": {},
   "outputs": [
    {
     "data": {
      "text/plain": [
       "13"
      ]
     },
     "execution_count": 53,
     "metadata": {},
     "output_type": "execute_result"
    }
   ],
   "source": [
    "# # Get all 10-Q filings (ticker: SPG)\n",
    "# dl.get(\"10-Q\", \"SPG\", after_date=\"20160101\")"
   ]
  },
  {
   "cell_type": "code",
   "execution_count": 90,
   "metadata": {},
   "outputs": [],
   "source": [
    "SPG_Path = [\n",
    "    \"/Users/boimoriba/Documents/Learn.Co_Docs/Projects/Capstone/sec_edgar_filings/SPG/10-Q/0001047469-16-012892.txt\"\n",
    "    \"/Users/boimoriba/Documents/Learn.Co_Docs/Projects/Capstone/sec_edgar_filings/SPG/10-Q/0001047469-16-014660.txt\"\n",
    "    \"/Users/boimoriba/Documents/Learn.Co_Docs/Projects/Capstone/sec_edgar_filings/SPG/10-Q/0001558370-16-009130.txt\"\n",
    "    \"/Users/boimoriba/Documents/Learn.Co_Docs/Projects/Capstone/sec_edgar_filings/SPG/10-Q/0001558370-17-003316.txt\"\n",
    "    \"/Users/boimoriba/Documents/Learn.Co_Docs/Projects/Capstone/sec_edgar_filings/SPG/10-Q/0001558370-17-005905.txt\"\n",
    "    \"/Users/boimoriba/Documents/Learn.Co_Docs/Projects/Capstone/sec_edgar_filings/SPG/10-Q/0001558370-17-007678.txt\"\n",
    "    \"/Users/boimoriba/Documents/Learn.Co_Docs/Projects/Capstone/sec_edgar_filings/SPG/10-Q/0001558370-18-003817.txt\"\n",
    "    \"/Users/boimoriba/Documents/Learn.Co_Docs/Projects/Capstone/sec_edgar_filings/SPG/10-Q/0001558370-18-006144.txt\"\n",
    "    \"/Users/boimoriba/Documents/Learn.Co_Docs/Projects/Capstone/sec_edgar_filings/SPG/10-Q/0001558370-18-008301.txt\"\n",
    "    \"/Users/boimoriba/Documents/Learn.Co_Docs/Projects/Capstone/sec_edgar_filings/SPG/10-Q/0001558370-19-004352.txt\"\n",
    "    \"/Users/boimoriba/Documents/Learn.Co_Docs/Projects/Capstone/sec_edgar_filings/SPG/10-Q/0001558370-19-007355.txt\"\n",
    "    \"/Users/boimoriba/Documents/Learn.Co_Docs/Projects/Capstone/sec_edgar_filings/SPG/10-Q/0001558370-19-010077.txt\"\n",
    "    \"/Users/boimoriba/Documents/Learn.Co_Docs/Projects/Capstone/sec_edgar_filings/SPG/10-Q/0001558370-20-006251.txt\"\n",
    "]"
   ]
  },
  {
   "cell_type": "markdown",
   "metadata": {},
   "source": [
    "**Skywest Inc: SKYW**"
   ]
  },
  {
   "cell_type": "code",
   "execution_count": 54,
   "metadata": {},
   "outputs": [
    {
     "data": {
      "text/plain": [
       "13"
      ]
     },
     "execution_count": 54,
     "metadata": {},
     "output_type": "execute_result"
    }
   ],
   "source": [
    "# # Get all 10-Q filings (ticker: SKYW )\n",
    "# dl.get(\"10-Q\", \"SKYW\", after_date=\"20160101\")"
   ]
  },
  {
   "cell_type": "code",
   "execution_count": 91,
   "metadata": {},
   "outputs": [],
   "source": [
    "SKYW_Path = [\n",
    "    \"/Users/boimoriba/Documents/Learn.Co_Docs/Projects/Capstone/sec_edgar_filings/SKYW/10-Q/0001558370-16-005505.txt\"\n",
    "    \"/Users/boimoriba/Documents/Learn.Co_Docs/Projects/Capstone/sec_edgar_filings/SKYW/10-Q/0001558370-16-007497.txt\"\n",
    "    \"/Users/boimoriba/Documents/Learn.Co_Docs/Projects/Capstone/sec_edgar_filings/SKYW/10-Q/0001558370-16-009304.txt\"\n",
    "    \"/Users/boimoriba/Documents/Learn.Co_Docs/Projects/Capstone/sec_edgar_filings/SKYW/10-Q/0001558370-17-003792.txt\"\n",
    "    \"/Users/boimoriba/Documents/Learn.Co_Docs/Projects/Capstone/sec_edgar_filings/SKYW/10-Q/0001558370-17-005979.txt\"\n",
    "    \"/Users/boimoriba/Documents/Learn.Co_Docs/Projects/Capstone/sec_edgar_filings/SKYW/10-Q/0001558370-17-008114.txt\"\n",
    "    \"/Users/boimoriba/Documents/Learn.Co_Docs/Projects/Capstone/sec_edgar_filings/SKYW/10-Q/0001558370-18-004155.txt\"\n",
    "    \"/Users/boimoriba/Documents/Learn.Co_Docs/Projects/Capstone/sec_edgar_filings/SKYW/10-Q/0001558370-18-006579.txt\"\n",
    "    \"/Users/boimoriba/Documents/Learn.Co_Docs/Projects/Capstone/sec_edgar_filings/SKYW/10-Q/0001558370-18-008623.txt\"\n",
    "    \"/Users/boimoriba/Documents/Learn.Co_Docs/Projects/Capstone/sec_edgar_filings/SKYW/10-Q/0001558370-19-004074.txt\"\n",
    "    \"/Users/boimoriba/Documents/Learn.Co_Docs/Projects/Capstone/sec_edgar_filings/SKYW/10-Q/0001558370-19-007069.txt\"\n",
    "    \"/Users/boimoriba/Documents/Learn.Co_Docs/Projects/Capstone/sec_edgar_filings/SKYW/10-Q/0001558370-19-009963.txt\"\n",
    "    \"/Users/boimoriba/Documents/Learn.Co_Docs/Projects/Capstone/sec_edgar_filings/SKYW/10-Q/0001558370-20-005996.txt\"\n",
    "]"
   ]
  },
  {
   "cell_type": "markdown",
   "metadata": {},
   "source": [
    "**Southern Co: SO**"
   ]
  },
  {
   "cell_type": "code",
   "execution_count": 55,
   "metadata": {},
   "outputs": [
    {
     "data": {
      "text/plain": [
       "13"
      ]
     },
     "execution_count": 55,
     "metadata": {},
     "output_type": "execute_result"
    }
   ],
   "source": [
    "# Get all 10-Q filings (ticker: SO )\n",
    "# dl.get(\"10-Q\", \"SO\", after_date=\"20160101\")"
   ]
  },
  {
   "cell_type": "code",
   "execution_count": 92,
   "metadata": {},
   "outputs": [],
   "source": [
    "SO_Path = [\n",
    "    \"/Users/boimoriba/Documents/Learn.Co_Docs/Projects/Capstone/sec_edgar_filings/SO/10-Q/0000092122-16-000144.txt\"\n",
    "    \"/Users/boimoriba/Documents/Learn.Co_Docs/Projects/Capstone/sec_edgar_filings/SO/10-Q/0000092122-16-000179.txt\"\n",
    "    \"/Users/boimoriba/Documents/Learn.Co_Docs/Projects/Capstone/sec_edgar_filings/SO/10-Q/0000092122-16-000213.txt\"\n",
    "    \"/Users/boimoriba/Documents/Learn.Co_Docs/Projects/Capstone/sec_edgar_filings/SO/10-Q/0000092122-17-000024.txt\"\n",
    "    \"/Users/boimoriba/Documents/Learn.Co_Docs/Projects/Capstone/sec_edgar_filings/SO/10-Q/0000092122-17-000065.txt\"\n",
    "    \"/Users/boimoriba/Documents/Learn.Co_Docs/Projects/Capstone/sec_edgar_filings/SO/10-Q/0000092122-17-000076.txt\"\n",
    "    \"/Users/boimoriba/Documents/Learn.Co_Docs/Projects/Capstone/sec_edgar_filings/SO/10-Q/0000092122-18-000027.txt\"\n",
    "    \"/Users/boimoriba/Documents/Learn.Co_Docs/Projects/Capstone/sec_edgar_filings/SO/10-Q/0000092122-18-000050.txt\"\n",
    "    \"/Users/boimoriba/Documents/Learn.Co_Docs/Projects/Capstone/sec_edgar_filings/SO/10-Q/0000092122-18-000062.txt\"\n",
    "    \"/Users/boimoriba/Documents/Learn.Co_Docs/Projects/Capstone/sec_edgar_filings/SO/10-Q/0000092122-19-000016.txt\"\n",
    "    \"/Users/boimoriba/Documents/Learn.Co_Docs/Projects/Capstone/sec_edgar_filings/SO/10-Q/0000092122-19-000037.txt\"\n",
    "    \"/Users/boimoriba/Documents/Learn.Co_Docs/Projects/Capstone/sec_edgar_filings/SO/10-Q/0000092122-19-000053.txt\"\n",
    "    \"/Users/boimoriba/Documents/Learn.Co_Docs/Projects/Capstone/sec_edgar_filings/SO/10-Q/0000092122-20-000042.txt\"\n",
    "]"
   ]
  },
  {
   "cell_type": "markdown",
   "metadata": {},
   "source": [
    "# Stop Words & Punctuation Removal\n",
    "The plan is to write a function that can remove the stop words and puctuations of each docment per company.  "
   ]
  },
  {
   "cell_type": "markdown",
   "metadata": {},
   "source": [
    "# Removing Stop Words"
   ]
  },
  {
   "cell_type": "code",
   "execution_count": null,
   "metadata": {},
   "outputs": [],
   "source": [
    "# # Reading in the document\n",
    "# PATH = \n",
    "# file = open(PATH, \"r\", -1 , \"utf-8\")\n",
    "# text = file.read()\n",
    "# file.close()"
   ]
  },
  {
   "cell_type": "code",
   "execution_count": null,
   "metadata": {},
   "outputs": [],
   "source": [
    "# soup = BeautifulSoup(text, 'lxml') # Parsing document"
   ]
  },
  {
   "cell_type": "code",
   "execution_count": null,
   "metadata": {},
   "outputs": [],
   "source": [
    "# # Remove all script and style elements\n",
    "# for script in soup([\"script\", \"style\"]):\n",
    "#     script.extract()"
   ]
  },
  {
   "cell_type": "code",
   "execution_count": null,
   "metadata": {},
   "outputs": [],
   "source": [
    "# # Assign what's left to a string\n",
    "# pageText = soup.body.get_text()"
   ]
  },
  {
   "cell_type": "code",
   "execution_count": null,
   "metadata": {},
   "outputs": [],
   "source": [
    "# # Getting rid of characters in document\n",
    "# pageText = \"\".join(c for c in pageText if c not in '!\"#$%&\\'()*+,./:;<=>?@[\\\\]^_`{|}~') "
   ]
  },
  {
   "cell_type": "markdown",
   "metadata": {},
   "source": [
    "# Learn.Co Stuff"
   ]
  },
  {
   "cell_type": "code",
   "execution_count": null,
   "metadata": {},
   "outputs": [],
   "source": [
    "'''Code from Learn. Co that I want to turn into a function to go through each document for the list \n",
    "of companies and clean it up but removing puntuations, stopwords, and uppercase letters''' \n",
    "\n",
    "# from nltk.corpus import stopwords\n",
    "# import string\n",
    "\n",
    "# # Get all the stop words in the English language\n",
    "# stopwords_list = stopwords.words('english')\n",
    "\n",
    "# # It is generally a good idea to also remove punctuation\n",
    "\n",
    "# # Now we have a list that includes all english stopwords, as well as all punctuation\n",
    "# stopwords_list += list(string.punctuation)\n",
    "\n",
    "\n",
    "# from nltk import word_tokenize\n",
    "\n",
    "# tokens = word_tokenize(some_text_data)\n",
    "\n",
    "# # It is usually a good idea to lowercase all tokens during this step, as well\n",
    "# stopped_tokens = [w.lower() for w in tokens if w not in stopwords_list]"
   ]
  },
  {
   "cell_type": "code",
   "execution_count": null,
   "metadata": {},
   "outputs": [],
   "source": [
    "# # code from learn co to ocheck frequecy \n",
    "# from  nltk import FreqDist\n",
    "# freqdist = FreqDist(tokens)\n",
    "\n",
    "# # get the 200 most common words \n",
    "# most_common = freqdist.most_common(200)"
   ]
  },
  {
   "cell_type": "markdown",
   "metadata": {},
   "source": [
    "# Lemmatization"
   ]
  },
  {
   "cell_type": "code",
   "execution_count": null,
   "metadata": {},
   "outputs": [],
   "source": [
    "# from nltk.stem.wordnet import WordNetLemmatizer\n",
    "\n",
    "# lemmatizer = WordNetLemmatizer()\n",
    "\n",
    "# lemmatizer.lemmatize('feet') # foot\n",
    "# lemmatizer.lemmatize('running') # run"
   ]
  },
  {
   "cell_type": "markdown",
   "metadata": {},
   "source": [
    "# Resources "
   ]
  },
  {
   "cell_type": "markdown",
   "metadata": {},
   "source": [
    "**The Idea**\n",
    "\n",
    "The Blog That Led to This Project: https://towardsdatascience.com/useful-sentiment-analysis-mining-sec-filings-part-1-358942fc98ed\n",
    "\n",
    "**Newer Library Used**\n",
    "\n",
    "Downloading 10-Q: https://sec-edgar-downloader.readthedocs.io/en/latest/\n",
    "\n",
    "Edgar Documentation: https://pypi.org/project/edgar/\n",
    "\n",
    "**Companies** \n",
    "\n",
    "List of SEC Registered Companies: https://www.sec.gov/Archives/edgar/cik-lookup-data.txt\n",
    "\n",
    "\n"
   ]
  },
  {
   "cell_type": "markdown",
   "metadata": {},
   "source": [
    "# Human Resources"
   ]
  },
  {
   "cell_type": "markdown",
   "metadata": {},
   "source": [
    "Bryan Arnold 02172020 DS Lead Instructor: https://www.kaggle.com/puremath86\n",
    "\n",
    "Lindsey Berlin 02172020 DS Coach: https://github.com/lindseyberlin"
   ]
  }
 ],
 "metadata": {
  "kernelspec": {
   "display_name": "Python 3",
   "language": "python",
   "name": "python3"
  },
  "language_info": {
   "codemirror_mode": {
    "name": "ipython",
    "version": 3
   },
   "file_extension": ".py",
   "mimetype": "text/x-python",
   "name": "python",
   "nbconvert_exporter": "python",
   "pygments_lexer": "ipython3",
   "version": "3.6.9"
  }
 },
 "nbformat": 4,
 "nbformat_minor": 2
}
