{
 "cells": [
  {
   "cell_type": "markdown",
   "metadata": {},
   "source": [
    "## THIS IS A SCRAP NOTEBOOK\n",
    "In this note book you will find the code used to clean up the list of NYSE comapnies that were registered with the SEC "
   ]
  },
  {
   "cell_type": "code",
   "execution_count": 1,
   "metadata": {},
   "outputs": [],
   "source": [
    "# Importing needed libraries for data manipulation \n",
    "import numpy as np\n",
    "import pandas as pd\n",
    "\n",
    "from edgar import Company, TXTML, Edgar\n",
    "\n",
    "from bs4 import BeautifulSoup\n",
    "\n",
    "import re\n",
    "\n",
    "import os\n",
    "\n",
    "import ast"
   ]
  },
  {
   "cell_type": "markdown",
   "metadata": {},
   "source": [
    "# Company Extraction "
   ]
  },
  {
   "cell_type": "code",
   "execution_count": null,
   "metadata": {},
   "outputs": [],
   "source": [
    "# List of companies to request information for\n",
    "# The full list stems from the companies who report 10-Qs\n",
    "cannabiscompanies = ['22nd Century Group Inc.', 'Altria Group, Inc.', 'Compass Diversified Holdings']\n",
    "\n",
    "# In the same order as list above, this is the CIK number\n",
    "# CIK_num = [0001347858]\n",
    "\n",
    "# The years to pull the 10-Qs for\n",
    "years = [2016, 2017, 2018, 2019, 2020]"
   ]
  },
  {
   "cell_type": "code",
   "execution_count": null,
   "metadata": {},
   "outputs": [],
   "source": [
    "company1 = Company(\"22nd Century Group Inc.\", \"0001347858\")\n",
    "tree1 = company1.get_all_filings(filing_type = \"10-Q\")\n",
    "docs1 = Company.get_documents(tree1, no_of_documents=13)\n",
    "\n"
   ]
  },
  {
   "cell_type": "code",
   "execution_count": null,
   "metadata": {},
   "outputs": [],
   "source": [
    "example1 = docs1[0]"
   ]
  },
  {
   "cell_type": "code",
   "execution_count": null,
   "metadata": {},
   "outputs": [],
   "source": [
    "#  print(example1.text_content())"
   ]
  },
  {
   "cell_type": "code",
   "execution_count": 67,
   "metadata": {},
   "outputs": [],
   "source": [
    "# # /Users/boimoriba/Documents/Learn.Co_Docs/Projects/Capstone/CSV_Files/cik-lookup-data.txt\n",
    "\n",
    "# THIS_FOLDER = os.path.dirname(os.path.abspath(__file__))\n",
    "# my_file = os.path.join(THIS_FOLDER, \"cik-lookup-data.txt\")\n",
    "# File_object = open(\"cik-lookup-data.txt\",\"r\")"
   ]
  },
  {
   "cell_type": "code",
   "execution_count": 6,
   "metadata": {},
   "outputs": [],
   "source": [
    "f = open('/Users/boimoriba/Documents/Learn.Co_Docs/Projects/Capstone/Notebooks/cik-lookup-data.txt')"
   ]
  },
  {
   "cell_type": "code",
   "execution_count": 12,
   "metadata": {},
   "outputs": [],
   "source": [
    "SEC_REG_list = pd.read_fwf('cik-lookup-data.txt', colspecs='infer', widths=None, )"
   ]
  },
  {
   "cell_type": "code",
   "execution_count": 13,
   "metadata": {},
   "outputs": [
    {
     "data": {
      "text/html": [
       "<div>\n",
       "<style scoped>\n",
       "    .dataframe tbody tr th:only-of-type {\n",
       "        vertical-align: middle;\n",
       "    }\n",
       "\n",
       "    .dataframe tbody tr th {\n",
       "        vertical-align: top;\n",
       "    }\n",
       "\n",
       "    .dataframe thead th {\n",
       "        text-align: right;\n",
       "    }\n",
       "</style>\n",
       "<table border=\"1\" class=\"dataframe\">\n",
       "  <thead>\n",
       "    <tr style=\"text-align: right;\">\n",
       "      <th></th>\n",
       "      <th>!J INC:0001438823:</th>\n",
       "    </tr>\n",
       "  </thead>\n",
       "  <tbody>\n",
       "    <tr>\n",
       "      <td>0</td>\n",
       "      <td>#1 A LIFESAFER HOLDINGS, INC.:0001509607:</td>\n",
       "    </tr>\n",
       "    <tr>\n",
       "      <td>1</td>\n",
       "      <td>#1 ARIZONA DISCOUNT PROPERTIES LLC:0001457512:</td>\n",
       "    </tr>\n",
       "    <tr>\n",
       "      <td>2</td>\n",
       "      <td>#1 PAINTBALL CORP:0001433777:</td>\n",
       "    </tr>\n",
       "    <tr>\n",
       "      <td>3</td>\n",
       "      <td>$ LLC:0001427189:</td>\n",
       "    </tr>\n",
       "    <tr>\n",
       "      <td>4</td>\n",
       "      <td>$AVY, INC.:0001655250:</td>\n",
       "    </tr>\n",
       "  </tbody>\n",
       "</table>\n",
       "</div>"
      ],
      "text/plain": [
       "                               !J INC:0001438823:\n",
       "0       #1 A LIFESAFER HOLDINGS, INC.:0001509607:\n",
       "1  #1 ARIZONA DISCOUNT PROPERTIES LLC:0001457512:\n",
       "2                   #1 PAINTBALL CORP:0001433777:\n",
       "3                               $ LLC:0001427189:\n",
       "4                          $AVY, INC.:0001655250:"
      ]
     },
     "execution_count": 13,
     "metadata": {},
     "output_type": "execute_result"
    }
   ],
   "source": [
    "SEC_REG_list.head()"
   ]
  },
  {
   "cell_type": "code",
   "execution_count": 14,
   "metadata": {},
   "outputs": [
    {
     "data": {
      "text/plain": [
       "Index(['!J INC:0001438823:'], dtype='object')"
      ]
     },
     "execution_count": 14,
     "metadata": {},
     "output_type": "execute_result"
    }
   ],
   "source": [
    "SEC_REG_list.columns"
   ]
  },
  {
   "cell_type": "code",
   "execution_count": 15,
   "metadata": {},
   "outputs": [
    {
     "name": "stdout",
     "output_type": "stream",
     "text": [
      "<class 'pandas.core.frame.DataFrame'>\n",
      "RangeIndex: 759377 entries, 0 to 759376\n",
      "Data columns (total 1 columns):\n",
      "!J INC:0001438823:    759377 non-null object\n",
      "dtypes: object(1)\n",
      "memory usage: 5.8+ MB\n"
     ]
    }
   ],
   "source": [
    "SEC_REG_list.info()"
   ]
  },
  {
   "cell_type": "code",
   "execution_count": 16,
   "metadata": {},
   "outputs": [
    {
     "data": {
      "text/plain": [
       "(759377, 1)"
      ]
     },
     "execution_count": 16,
     "metadata": {},
     "output_type": "execute_result"
    }
   ],
   "source": [
    "SEC_REG_list.shape"
   ]
  },
  {
   "cell_type": "code",
   "execution_count": 21,
   "metadata": {},
   "outputs": [
    {
     "data": {
      "text/plain": [
       "str"
      ]
     },
     "execution_count": 21,
     "metadata": {},
     "output_type": "execute_result"
    }
   ],
   "source": [
    "type(SEC_REG_list['!J INC:0001438823:'][1])"
   ]
  },
  {
   "cell_type": "code",
   "execution_count": 24,
   "metadata": {},
   "outputs": [
    {
     "data": {
      "text/plain": [
       "'12 WEST CAPITAL MANAGEMENT LP:0001540531:'"
      ]
     },
     "execution_count": 24,
     "metadata": {},
     "output_type": "execute_result"
    }
   ],
   "source": [
    "SEC_REG_list['!J INC:0001438823:'][700]"
   ]
  },
  {
   "cell_type": "markdown",
   "metadata": {},
   "source": [
    "need to split by : and  create cik_number column \n",
    "\n",
    "then drop : in front of cik number in cik_number column "
   ]
  },
  {
   "cell_type": "code",
   "execution_count": 63,
   "metadata": {},
   "outputs": [
    {
     "data": {
      "text/plain": [
       "['12 WEST CAPITAL MANAGEMENT LP', '0001540531', '']"
      ]
     },
     "execution_count": 63,
     "metadata": {},
     "output_type": "execute_result"
    }
   ],
   "source": [
    "# test run\n",
    "txt = SEC_REG_list['!J INC:0001438823:'][700]\n",
    "\n",
    "x = txt.split(\":\")\n",
    "x"
   ]
  },
  {
   "cell_type": "code",
   "execution_count": 55,
   "metadata": {},
   "outputs": [],
   "source": [
    "c_columns = SEC_REG_list['!J INC:0001438823:']\n",
    "\n",
    "companies= []     \n",
    "for comp in c_columns:\n",
    "    companies.append(comp.split(\":\"))\n",
    "\n",
    "    "
   ]
  },
  {
   "cell_type": "code",
   "execution_count": 151,
   "metadata": {},
   "outputs": [
    {
     "data": {
      "text/plain": [
       "'ZZZ MEDIA HOLDINGS, INC.'"
      ]
     },
     "execution_count": 151,
     "metadata": {},
     "output_type": "execute_result"
    }
   ],
   "source": [
    "companies[759376][0]"
   ]
  },
  {
   "cell_type": "code",
   "execution_count": 143,
   "metadata": {},
   "outputs": [
    {
     "data": {
      "text/plain": [
       "759377"
      ]
     },
     "execution_count": 143,
     "metadata": {},
     "output_type": "execute_result"
    }
   ],
   "source": [
    "len(companies)"
   ]
  },
  {
   "cell_type": "code",
   "execution_count": 155,
   "metadata": {},
   "outputs": [],
   "source": [
    "# name = []\n",
    "# cik = []\n",
    "\n",
    "# name_dict={}\n",
    "# cik_dict={}\n",
    "\n",
    "# for i in range(0,100) :\n",
    "#     name = companies[i][0]\n",
    "#     cik = companies[i][1]\n",
    "    \n",
    "#     name_dict[i]=name\n",
    "#     cik_dict[i]=cik\n",
    "    \n"
   ]
  },
  {
   "cell_type": "code",
   "execution_count": 191,
   "metadata": {},
   "outputs": [],
   "source": [
    "# cik_dict"
   ]
  },
  {
   "cell_type": "code",
   "execution_count": 135,
   "metadata": {},
   "outputs": [],
   "source": [
    "top10 = ['3M',\n",
    "'Abbott Labs',\n",
    "'Accenture',\n",
    "'AIG',\n",
    "'Altria',\n",
    "'AT&T',\n",
    "'Baker Hughes A',\n",
    "'Bank of America',\n",
    "'Bank of NY Mellon',\n",
    "'Baxter']"
   ]
  },
  {
   "cell_type": "code",
   "execution_count": 136,
   "metadata": {},
   "outputs": [],
   "source": [
    "df = pd.DataFrame(companies, columns = ['Name', 'CIK_Num', 'Space', 'Space1', 'Space3'])  "
   ]
  },
  {
   "cell_type": "code",
   "execution_count": 137,
   "metadata": {
    "scrolled": true
   },
   "outputs": [
    {
     "data": {
      "text/html": [
       "<div>\n",
       "<style scoped>\n",
       "    .dataframe tbody tr th:only-of-type {\n",
       "        vertical-align: middle;\n",
       "    }\n",
       "\n",
       "    .dataframe tbody tr th {\n",
       "        vertical-align: top;\n",
       "    }\n",
       "\n",
       "    .dataframe thead th {\n",
       "        text-align: right;\n",
       "    }\n",
       "</style>\n",
       "<table border=\"1\" class=\"dataframe\">\n",
       "  <thead>\n",
       "    <tr style=\"text-align: right;\">\n",
       "      <th></th>\n",
       "      <th>Name</th>\n",
       "      <th>CIK_Num</th>\n",
       "      <th>Space</th>\n",
       "      <th>Space1</th>\n",
       "      <th>Space3</th>\n",
       "    </tr>\n",
       "  </thead>\n",
       "  <tbody>\n",
       "    <tr>\n",
       "      <td>0</td>\n",
       "      <td>#1 A LIFESAFER HOLDINGS, INC.</td>\n",
       "      <td>0001509607</td>\n",
       "      <td></td>\n",
       "      <td>None</td>\n",
       "      <td>None</td>\n",
       "    </tr>\n",
       "    <tr>\n",
       "      <td>1</td>\n",
       "      <td>#1 ARIZONA DISCOUNT PROPERTIES LLC</td>\n",
       "      <td>0001457512</td>\n",
       "      <td></td>\n",
       "      <td>None</td>\n",
       "      <td>None</td>\n",
       "    </tr>\n",
       "    <tr>\n",
       "      <td>2</td>\n",
       "      <td>#1 PAINTBALL CORP</td>\n",
       "      <td>0001433777</td>\n",
       "      <td></td>\n",
       "      <td>None</td>\n",
       "      <td>None</td>\n",
       "    </tr>\n",
       "    <tr>\n",
       "      <td>3</td>\n",
       "      <td>$ LLC</td>\n",
       "      <td>0001427189</td>\n",
       "      <td></td>\n",
       "      <td>None</td>\n",
       "      <td>None</td>\n",
       "    </tr>\n",
       "    <tr>\n",
       "      <td>4</td>\n",
       "      <td>$AVY, INC.</td>\n",
       "      <td>0001655250</td>\n",
       "      <td></td>\n",
       "      <td>None</td>\n",
       "      <td>None</td>\n",
       "    </tr>\n",
       "  </tbody>\n",
       "</table>\n",
       "</div>"
      ],
      "text/plain": [
       "                                 Name     CIK_Num Space Space1 Space3\n",
       "0       #1 A LIFESAFER HOLDINGS, INC.  0001509607         None   None\n",
       "1  #1 ARIZONA DISCOUNT PROPERTIES LLC  0001457512         None   None\n",
       "2                   #1 PAINTBALL CORP  0001433777         None   None\n",
       "3                               $ LLC  0001427189         None   None\n",
       "4                          $AVY, INC.  0001655250         None   None"
      ]
     },
     "execution_count": 137,
     "metadata": {},
     "output_type": "execute_result"
    }
   ],
   "source": [
    "df.head()"
   ]
  },
  {
   "cell_type": "code",
   "execution_count": 183,
   "metadata": {},
   "outputs": [
    {
     "data": {
      "text/html": [
       "<div>\n",
       "<style scoped>\n",
       "    .dataframe tbody tr th:only-of-type {\n",
       "        vertical-align: middle;\n",
       "    }\n",
       "\n",
       "    .dataframe tbody tr th {\n",
       "        vertical-align: top;\n",
       "    }\n",
       "\n",
       "    .dataframe thead th {\n",
       "        text-align: right;\n",
       "    }\n",
       "</style>\n",
       "<table border=\"1\" class=\"dataframe\">\n",
       "  <thead>\n",
       "    <tr style=\"text-align: right;\">\n",
       "      <th></th>\n",
       "      <th>Name</th>\n",
       "      <th>CIK_Num</th>\n",
       "      <th>Space</th>\n",
       "      <th>Space1</th>\n",
       "      <th>Space3</th>\n",
       "    </tr>\n",
       "  </thead>\n",
       "  <tbody>\n",
       "    <tr>\n",
       "      <td>759372</td>\n",
       "      <td>ZZIF 2008 INVESTMENT LLC</td>\n",
       "      <td>0001448632</td>\n",
       "      <td></td>\n",
       "      <td>None</td>\n",
       "      <td>None</td>\n",
       "    </tr>\n",
       "    <tr>\n",
       "      <td>759373</td>\n",
       "      <td>ZZLL INFORMATION TECHNOLOGY, INC</td>\n",
       "      <td>0001365357</td>\n",
       "      <td></td>\n",
       "      <td>None</td>\n",
       "      <td>None</td>\n",
       "    </tr>\n",
       "    <tr>\n",
       "      <td>759374</td>\n",
       "      <td>ZZX, LLC</td>\n",
       "      <td>0001691924</td>\n",
       "      <td></td>\n",
       "      <td>None</td>\n",
       "      <td>None</td>\n",
       "    </tr>\n",
       "    <tr>\n",
       "      <td>759375</td>\n",
       "      <td>ZZYZX ZZAZX ZZOZX INC</td>\n",
       "      <td>0001184274</td>\n",
       "      <td></td>\n",
       "      <td>None</td>\n",
       "      <td>None</td>\n",
       "    </tr>\n",
       "    <tr>\n",
       "      <td>759376</td>\n",
       "      <td>ZZZ MEDIA HOLDINGS, INC.</td>\n",
       "      <td>0001755250</td>\n",
       "      <td></td>\n",
       "      <td>None</td>\n",
       "      <td>None</td>\n",
       "    </tr>\n",
       "  </tbody>\n",
       "</table>\n",
       "</div>"
      ],
      "text/plain": [
       "                                    Name     CIK_Num Space Space1 Space3\n",
       "759372          ZZIF 2008 INVESTMENT LLC  0001448632         None   None\n",
       "759373  ZZLL INFORMATION TECHNOLOGY, INC  0001365357         None   None\n",
       "759374                          ZZX, LLC  0001691924         None   None\n",
       "759375             ZZYZX ZZAZX ZZOZX INC  0001184274         None   None\n",
       "759376          ZZZ MEDIA HOLDINGS, INC.  0001755250         None   None"
      ]
     },
     "execution_count": 183,
     "metadata": {},
     "output_type": "execute_result"
    }
   ],
   "source": [
    "df.tail()"
   ]
  },
  {
   "cell_type": "code",
   "execution_count": 138,
   "metadata": {},
   "outputs": [
    {
     "name": "stdout",
     "output_type": "stream",
     "text": [
      "<class 'pandas.core.frame.DataFrame'>\n",
      "RangeIndex: 759377 entries, 0 to 759376\n",
      "Data columns (total 5 columns):\n",
      "Name       759377 non-null object\n",
      "CIK_Num    754640 non-null object\n",
      "Space      729181 non-null object\n",
      "Space1     269 non-null object\n",
      "Space3     2 non-null object\n",
      "dtypes: object(5)\n",
      "memory usage: 29.0+ MB\n"
     ]
    }
   ],
   "source": [
    "df.info()"
   ]
  },
  {
   "cell_type": "code",
   "execution_count": 193,
   "metadata": {},
   "outputs": [
    {
     "data": {
      "text/plain": [
       "(759377, 5)"
      ]
     },
     "execution_count": 193,
     "metadata": {},
     "output_type": "execute_result"
    }
   ],
   "source": [
    "df.shape"
   ]
  },
  {
   "cell_type": "markdown",
   "metadata": {},
   "source": [
    "# Space 3"
   ]
  },
  {
   "cell_type": "code",
   "execution_count": 204,
   "metadata": {},
   "outputs": [
    {
     "data": {
      "text/plain": [
       "759375"
      ]
     },
     "execution_count": 204,
     "metadata": {},
     "output_type": "execute_result"
    }
   ],
   "source": [
    "df['Space3'].isna().sum()"
   ]
  },
  {
   "cell_type": "code",
   "execution_count": 201,
   "metadata": {},
   "outputs": [
    {
     "data": {
      "text/plain": [
       "    2\n",
       "Name: Space3, dtype: int64"
      ]
     },
     "execution_count": 201,
     "metadata": {},
     "output_type": "execute_result"
    }
   ],
   "source": [
    "df['Space3'].value_counts()"
   ]
  },
  {
   "cell_type": "code",
   "execution_count": 207,
   "metadata": {
    "scrolled": true
   },
   "outputs": [
    {
     "data": {
      "text/html": [
       "<div>\n",
       "<style scoped>\n",
       "    .dataframe tbody tr th:only-of-type {\n",
       "        vertical-align: middle;\n",
       "    }\n",
       "\n",
       "    .dataframe tbody tr th {\n",
       "        vertical-align: top;\n",
       "    }\n",
       "\n",
       "    .dataframe thead th {\n",
       "        text-align: right;\n",
       "    }\n",
       "</style>\n",
       "<table border=\"1\" class=\"dataframe\">\n",
       "  <thead>\n",
       "    <tr style=\"text-align: right;\">\n",
       "      <th></th>\n",
       "      <th>Name</th>\n",
       "      <th>CIK_Num</th>\n",
       "      <th>Space</th>\n",
       "      <th>Space1</th>\n",
       "      <th>Space3</th>\n",
       "    </tr>\n",
       "  </thead>\n",
       "  <tbody>\n",
       "    <tr>\n",
       "      <td>154781</td>\n",
       "      <td>CONNECT 1</td>\n",
       "      <td>2</td>\n",
       "      <td>1 MOBILE INC</td>\n",
       "      <td>0001361165</td>\n",
       "      <td></td>\n",
       "    </tr>\n",
       "    <tr>\n",
       "      <td>655695</td>\n",
       "      <td>STUDIO</td>\n",
       "      <td></td>\n",
       "      <td>J'HAN CO LLC</td>\n",
       "      <td>0001734395</td>\n",
       "      <td></td>\n",
       "    </tr>\n",
       "  </tbody>\n",
       "</table>\n",
       "</div>"
      ],
      "text/plain": [
       "             Name CIK_Num          Space      Space1 Space3\n",
       "154781  CONNECT 1       2   1 MOBILE INC  0001361165       \n",
       "655695    STUDIO            J'HAN CO LLC  0001734395       "
      ]
     },
     "execution_count": 207,
     "metadata": {},
     "output_type": "execute_result"
    }
   ],
   "source": [
    "df.loc[df['Space3'] == '']"
   ]
  },
  {
   "cell_type": "markdown",
   "metadata": {},
   "source": [
    "# Space 1 Column\n",
    "Need to figure what is in this column, it may be a cik number so I want to make sure I check it before I drop anything from this dataframe. "
   ]
  },
  {
   "cell_type": "code",
   "execution_count": 198,
   "metadata": {
    "scrolled": false
   },
   "outputs": [
    {
     "data": {
      "text/html": [
       "<div>\n",
       "<style scoped>\n",
       "    .dataframe tbody tr th:only-of-type {\n",
       "        vertical-align: middle;\n",
       "    }\n",
       "\n",
       "    .dataframe tbody tr th {\n",
       "        vertical-align: top;\n",
       "    }\n",
       "\n",
       "    .dataframe thead th {\n",
       "        text-align: right;\n",
       "    }\n",
       "</style>\n",
       "<table border=\"1\" class=\"dataframe\">\n",
       "  <thead>\n",
       "    <tr style=\"text-align: right;\">\n",
       "      <th></th>\n",
       "      <th>Name</th>\n",
       "      <th>CIK_Num</th>\n",
       "      <th>Space</th>\n",
       "      <th>Space1</th>\n",
       "      <th>Space3</th>\n",
       "    </tr>\n",
       "  </thead>\n",
       "  <tbody>\n",
       "    <tr>\n",
       "      <td>659</td>\n",
       "      <td>11</td>\n",
       "      <td>11 CAPITAL CORP.</td>\n",
       "      <td>0001463262</td>\n",
       "      <td></td>\n",
       "      <td>None</td>\n",
       "    </tr>\n",
       "    <tr>\n",
       "      <td>3032</td>\n",
       "      <td>29</td>\n",
       "      <td>11 PLAN LLC</td>\n",
       "      <td>0001738803</td>\n",
       "      <td></td>\n",
       "      <td>None</td>\n",
       "    </tr>\n",
       "    <tr>\n",
       "      <td>3076</td>\n",
       "      <td>2I CAPITAL PCC</td>\n",
       "      <td>STRATEGIC FUND I</td>\n",
       "      <td>0001508295</td>\n",
       "      <td></td>\n",
       "      <td>None</td>\n",
       "    </tr>\n",
       "    <tr>\n",
       "      <td>3730</td>\n",
       "      <td>3</td>\n",
       "      <td>10 CAPITAL WPF II, LLC</td>\n",
       "      <td>0001728252</td>\n",
       "      <td></td>\n",
       "      <td>None</td>\n",
       "    </tr>\n",
       "    <tr>\n",
       "      <td>3731</td>\n",
       "      <td>3</td>\n",
       "      <td>10 CAPITAL WPF III, LLC</td>\n",
       "      <td>0001734857</td>\n",
       "      <td></td>\n",
       "      <td>None</td>\n",
       "    </tr>\n",
       "    <tr>\n",
       "      <td>...</td>\n",
       "      <td>...</td>\n",
       "      <td>...</td>\n",
       "      <td>...</td>\n",
       "      <td>...</td>\n",
       "      <td>...</td>\n",
       "    </tr>\n",
       "    <tr>\n",
       "      <td>731110</td>\n",
       "      <td>WELLINGTON</td>\n",
       "      <td>NON-US EQUITY OFFSHORE LP</td>\n",
       "      <td>0001410166</td>\n",
       "      <td></td>\n",
       "      <td>None</td>\n",
       "    </tr>\n",
       "    <tr>\n",
       "      <td>731111</td>\n",
       "      <td>WELLINGTON</td>\n",
       "      <td>SMALL CAP CORE OFFSHORE LP</td>\n",
       "      <td>0001359228</td>\n",
       "      <td></td>\n",
       "      <td>None</td>\n",
       "    </tr>\n",
       "    <tr>\n",
       "      <td>739658</td>\n",
       "      <td>WILLIAM BLAIR</td>\n",
       "      <td>NON-US EQUITY LLC</td>\n",
       "      <td>0001359241</td>\n",
       "      <td></td>\n",
       "      <td>None</td>\n",
       "    </tr>\n",
       "    <tr>\n",
       "      <td>739659</td>\n",
       "      <td>WILLIAM BLAIR</td>\n",
       "      <td>NON-US EQUITY OFFSHORE LP</td>\n",
       "      <td>0001359245</td>\n",
       "      <td></td>\n",
       "      <td>None</td>\n",
       "    </tr>\n",
       "    <tr>\n",
       "      <td>739660</td>\n",
       "      <td>WILLIAM BLAIR</td>\n",
       "      <td>NON-US EQUITY LLC</td>\n",
       "      <td>0001410156</td>\n",
       "      <td></td>\n",
       "      <td>None</td>\n",
       "    </tr>\n",
       "  </tbody>\n",
       "</table>\n",
       "<p>267 rows × 5 columns</p>\n",
       "</div>"
      ],
      "text/plain": [
       "                  Name                      CIK_Num       Space Space1 Space3\n",
       "659                 11             11 CAPITAL CORP.  0001463262          None\n",
       "3032                29                  11 PLAN LLC  0001738803          None\n",
       "3076    2I CAPITAL PCC             STRATEGIC FUND I  0001508295          None\n",
       "3730                 3       10 CAPITAL WPF II, LLC  0001728252          None\n",
       "3731                 3      10 CAPITAL WPF III, LLC  0001734857          None\n",
       "...                ...                          ...         ...    ...    ...\n",
       "731110      WELLINGTON    NON-US EQUITY OFFSHORE LP  0001410166          None\n",
       "731111      WELLINGTON   SMALL CAP CORE OFFSHORE LP  0001359228          None\n",
       "739658   WILLIAM BLAIR            NON-US EQUITY LLC  0001359241          None\n",
       "739659   WILLIAM BLAIR    NON-US EQUITY OFFSHORE LP  0001359245          None\n",
       "739660   WILLIAM BLAIR            NON-US EQUITY LLC  0001410156          None\n",
       "\n",
       "[267 rows x 5 columns]"
      ]
     },
     "execution_count": 198,
     "metadata": {},
     "output_type": "execute_result"
    }
   ],
   "source": [
    "df.loc[df['Space1'] == ''] "
   ]
  },
  {
   "cell_type": "code",
   "execution_count": 197,
   "metadata": {
    "scrolled": true
   },
   "outputs": [
    {
     "data": {
      "text/plain": [
       "              267\n",
       "0001361165      1\n",
       "0001734395      1\n",
       "Name: Space1, dtype: int64"
      ]
     },
     "execution_count": 197,
     "metadata": {},
     "output_type": "execute_result"
    }
   ],
   "source": [
    "df['Space1'].value_counts()"
   ]
  },
  {
   "cell_type": "code",
   "execution_count": 199,
   "metadata": {},
   "outputs": [
    {
     "data": {
      "text/html": [
       "<div>\n",
       "<style scoped>\n",
       "    .dataframe tbody tr th:only-of-type {\n",
       "        vertical-align: middle;\n",
       "    }\n",
       "\n",
       "    .dataframe tbody tr th {\n",
       "        vertical-align: top;\n",
       "    }\n",
       "\n",
       "    .dataframe thead th {\n",
       "        text-align: right;\n",
       "    }\n",
       "</style>\n",
       "<table border=\"1\" class=\"dataframe\">\n",
       "  <thead>\n",
       "    <tr style=\"text-align: right;\">\n",
       "      <th></th>\n",
       "      <th>Name</th>\n",
       "      <th>CIK_Num</th>\n",
       "      <th>Space</th>\n",
       "      <th>Space1</th>\n",
       "      <th>Space3</th>\n",
       "    </tr>\n",
       "  </thead>\n",
       "  <tbody>\n",
       "    <tr>\n",
       "      <td>655695</td>\n",
       "      <td>STUDIO</td>\n",
       "      <td></td>\n",
       "      <td>J'HAN CO LLC</td>\n",
       "      <td>0001734395</td>\n",
       "      <td></td>\n",
       "    </tr>\n",
       "  </tbody>\n",
       "</table>\n",
       "</div>"
      ],
      "text/plain": [
       "           Name CIK_Num          Space      Space1 Space3\n",
       "655695  STUDIO            J'HAN CO LLC  0001734395       "
      ]
     },
     "execution_count": 199,
     "metadata": {},
     "output_type": "execute_result"
    }
   ],
   "source": [
    "df.loc[df['Space1'] == '0001734395']"
   ]
  },
  {
   "cell_type": "code",
   "execution_count": 200,
   "metadata": {
    "scrolled": true
   },
   "outputs": [
    {
     "data": {
      "text/html": [
       "<div>\n",
       "<style scoped>\n",
       "    .dataframe tbody tr th:only-of-type {\n",
       "        vertical-align: middle;\n",
       "    }\n",
       "\n",
       "    .dataframe tbody tr th {\n",
       "        vertical-align: top;\n",
       "    }\n",
       "\n",
       "    .dataframe thead th {\n",
       "        text-align: right;\n",
       "    }\n",
       "</style>\n",
       "<table border=\"1\" class=\"dataframe\">\n",
       "  <thead>\n",
       "    <tr style=\"text-align: right;\">\n",
       "      <th></th>\n",
       "      <th>Name</th>\n",
       "      <th>CIK_Num</th>\n",
       "      <th>Space</th>\n",
       "      <th>Space1</th>\n",
       "      <th>Space3</th>\n",
       "    </tr>\n",
       "  </thead>\n",
       "  <tbody>\n",
       "    <tr>\n",
       "      <td>154781</td>\n",
       "      <td>CONNECT 1</td>\n",
       "      <td>2</td>\n",
       "      <td>1 MOBILE INC</td>\n",
       "      <td>0001361165</td>\n",
       "      <td></td>\n",
       "    </tr>\n",
       "  </tbody>\n",
       "</table>\n",
       "</div>"
      ],
      "text/plain": [
       "             Name CIK_Num         Space      Space1 Space3\n",
       "154781  CONNECT 1       2  1 MOBILE INC  0001361165       "
      ]
     },
     "execution_count": 200,
     "metadata": {},
     "output_type": "execute_result"
    }
   ],
   "source": [
    "df.loc[df['Space1'] == '0001361165'] "
   ]
  },
  {
   "cell_type": "markdown",
   "metadata": {},
   "source": [
    "# Space Column"
   ]
  },
  {
   "cell_type": "code",
   "execution_count": 212,
   "metadata": {
    "scrolled": true
   },
   "outputs": [
    {
     "data": {
      "text/html": [
       "<div>\n",
       "<style scoped>\n",
       "    .dataframe tbody tr th:only-of-type {\n",
       "        vertical-align: middle;\n",
       "    }\n",
       "\n",
       "    .dataframe tbody tr th {\n",
       "        vertical-align: top;\n",
       "    }\n",
       "\n",
       "    .dataframe thead th {\n",
       "        text-align: right;\n",
       "    }\n",
       "</style>\n",
       "<table border=\"1\" class=\"dataframe\">\n",
       "  <thead>\n",
       "    <tr style=\"text-align: right;\">\n",
       "      <th></th>\n",
       "      <th>Name</th>\n",
       "      <th>CIK_Num</th>\n",
       "      <th>Space</th>\n",
       "      <th>Space1</th>\n",
       "      <th>Space3</th>\n",
       "    </tr>\n",
       "  </thead>\n",
       "  <tbody>\n",
       "    <tr>\n",
       "      <td>0</td>\n",
       "      <td>#1 A LIFESAFER HOLDINGS, INC.</td>\n",
       "      <td>0001509607</td>\n",
       "      <td></td>\n",
       "      <td>None</td>\n",
       "      <td>None</td>\n",
       "    </tr>\n",
       "    <tr>\n",
       "      <td>1</td>\n",
       "      <td>#1 ARIZONA DISCOUNT PROPERTIES LLC</td>\n",
       "      <td>0001457512</td>\n",
       "      <td></td>\n",
       "      <td>None</td>\n",
       "      <td>None</td>\n",
       "    </tr>\n",
       "    <tr>\n",
       "      <td>2</td>\n",
       "      <td>#1 PAINTBALL CORP</td>\n",
       "      <td>0001433777</td>\n",
       "      <td></td>\n",
       "      <td>None</td>\n",
       "      <td>None</td>\n",
       "    </tr>\n",
       "    <tr>\n",
       "      <td>3</td>\n",
       "      <td>$ LLC</td>\n",
       "      <td>0001427189</td>\n",
       "      <td></td>\n",
       "      <td>None</td>\n",
       "      <td>None</td>\n",
       "    </tr>\n",
       "    <tr>\n",
       "      <td>4</td>\n",
       "      <td>$AVY, INC.</td>\n",
       "      <td>0001655250</td>\n",
       "      <td></td>\n",
       "      <td>None</td>\n",
       "      <td>None</td>\n",
       "    </tr>\n",
       "    <tr>\n",
       "      <td>...</td>\n",
       "      <td>...</td>\n",
       "      <td>...</td>\n",
       "      <td>...</td>\n",
       "      <td>...</td>\n",
       "      <td>...</td>\n",
       "    </tr>\n",
       "    <tr>\n",
       "      <td>759372</td>\n",
       "      <td>ZZIF 2008 INVESTMENT LLC</td>\n",
       "      <td>0001448632</td>\n",
       "      <td></td>\n",
       "      <td>None</td>\n",
       "      <td>None</td>\n",
       "    </tr>\n",
       "    <tr>\n",
       "      <td>759373</td>\n",
       "      <td>ZZLL INFORMATION TECHNOLOGY, INC</td>\n",
       "      <td>0001365357</td>\n",
       "      <td></td>\n",
       "      <td>None</td>\n",
       "      <td>None</td>\n",
       "    </tr>\n",
       "    <tr>\n",
       "      <td>759374</td>\n",
       "      <td>ZZX, LLC</td>\n",
       "      <td>0001691924</td>\n",
       "      <td></td>\n",
       "      <td>None</td>\n",
       "      <td>None</td>\n",
       "    </tr>\n",
       "    <tr>\n",
       "      <td>759375</td>\n",
       "      <td>ZZYZX ZZAZX ZZOZX INC</td>\n",
       "      <td>0001184274</td>\n",
       "      <td></td>\n",
       "      <td>None</td>\n",
       "      <td>None</td>\n",
       "    </tr>\n",
       "    <tr>\n",
       "      <td>759376</td>\n",
       "      <td>ZZZ MEDIA HOLDINGS, INC.</td>\n",
       "      <td>0001755250</td>\n",
       "      <td></td>\n",
       "      <td>None</td>\n",
       "      <td>None</td>\n",
       "    </tr>\n",
       "  </tbody>\n",
       "</table>\n",
       "<p>728882 rows × 5 columns</p>\n",
       "</div>"
      ],
      "text/plain": [
       "                                      Name     CIK_Num Space Space1 Space3\n",
       "0            #1 A LIFESAFER HOLDINGS, INC.  0001509607         None   None\n",
       "1       #1 ARIZONA DISCOUNT PROPERTIES LLC  0001457512         None   None\n",
       "2                        #1 PAINTBALL CORP  0001433777         None   None\n",
       "3                                    $ LLC  0001427189         None   None\n",
       "4                               $AVY, INC.  0001655250         None   None\n",
       "...                                    ...         ...   ...    ...    ...\n",
       "759372            ZZIF 2008 INVESTMENT LLC  0001448632         None   None\n",
       "759373    ZZLL INFORMATION TECHNOLOGY, INC  0001365357         None   None\n",
       "759374                            ZZX, LLC  0001691924         None   None\n",
       "759375               ZZYZX ZZAZX ZZOZX INC  0001184274         None   None\n",
       "759376            ZZZ MEDIA HOLDINGS, INC.  0001755250         None   None\n",
       "\n",
       "[728882 rows x 5 columns]"
      ]
     },
     "execution_count": 212,
     "metadata": {},
     "output_type": "execute_result"
    }
   ],
   "source": [
    "df.loc[df['Space'] == ''] "
   ]
  },
  {
   "cell_type": "markdown",
   "metadata": {},
   "source": [
    "# CIK_Num Column"
   ]
  },
  {
   "cell_type": "code",
   "execution_count": 222,
   "metadata": {},
   "outputs": [
    {
     "data": {
      "text/plain": [
       "'A-FTB-15-FUND, A SERIES OF HERON ROCK, ENDEAVOR NORTH FUND, LP'"
      ]
     },
     "execution_count": 222,
     "metadata": {},
     "output_type": "execute_result"
    }
   ],
   "source": [
    "df.iloc[6862]['Name']"
   ]
  },
  {
   "cell_type": "code",
   "execution_count": 219,
   "metadata": {
    "scrolled": true
   },
   "outputs": [
    {
     "data": {
      "text/html": [
       "<div>\n",
       "<style scoped>\n",
       "    .dataframe tbody tr th:only-of-type {\n",
       "        vertical-align: middle;\n",
       "    }\n",
       "\n",
       "    .dataframe tbody tr th {\n",
       "        vertical-align: top;\n",
       "    }\n",
       "\n",
       "    .dataframe thead th {\n",
       "        text-align: right;\n",
       "    }\n",
       "</style>\n",
       "<table border=\"1\" class=\"dataframe\">\n",
       "  <thead>\n",
       "    <tr style=\"text-align: right;\">\n",
       "      <th></th>\n",
       "      <th>Name</th>\n",
       "      <th>CIK_Num</th>\n",
       "      <th>Space</th>\n",
       "      <th>Space1</th>\n",
       "      <th>Space3</th>\n",
       "    </tr>\n",
       "  </thead>\n",
       "  <tbody>\n",
       "    <tr>\n",
       "      <td>3594</td>\n",
       "      <td>36ONE HEDGE SEGREGATED PORTFOLIO OF THE SOUTH ...</td>\n",
       "      <td></td>\n",
       "      <td>None</td>\n",
       "      <td>None</td>\n",
       "      <td>None</td>\n",
       "    </tr>\n",
       "    <tr>\n",
       "      <td>6716</td>\n",
       "      <td>A-DHT-28-FUND, A SERIES OF HERON ROCK, ENDEAVO...</td>\n",
       "      <td></td>\n",
       "      <td>None</td>\n",
       "      <td>None</td>\n",
       "      <td>None</td>\n",
       "    </tr>\n",
       "    <tr>\n",
       "      <td>6862</td>\n",
       "      <td>A-FTB-15-FUND, A SERIES OF HERON ROCK, ENDEAVO...</td>\n",
       "      <td></td>\n",
       "      <td>None</td>\n",
       "      <td>None</td>\n",
       "      <td>None</td>\n",
       "    </tr>\n",
       "    <tr>\n",
       "      <td>6892</td>\n",
       "      <td>A-GIM-15-FUND, A SERIES OF HERON ROCK, ENDEAVO...</td>\n",
       "      <td></td>\n",
       "      <td>None</td>\n",
       "      <td>None</td>\n",
       "      <td>None</td>\n",
       "    </tr>\n",
       "    <tr>\n",
       "      <td>6929</td>\n",
       "      <td>A-HCD-15-FUND, A SERIES OF HERON ROCK, ENDEAVO...</td>\n",
       "      <td></td>\n",
       "      <td>None</td>\n",
       "      <td>None</td>\n",
       "      <td>None</td>\n",
       "    </tr>\n",
       "    <tr>\n",
       "      <td>...</td>\n",
       "      <td>...</td>\n",
       "      <td>...</td>\n",
       "      <td>...</td>\n",
       "      <td>...</td>\n",
       "      <td>...</td>\n",
       "    </tr>\n",
       "    <tr>\n",
       "      <td>744715</td>\n",
       "      <td>WNC INSTITUTIONAL TAX CREDIT FUND X CALIFORNIA...</td>\n",
       "      <td></td>\n",
       "      <td>None</td>\n",
       "      <td>None</td>\n",
       "      <td>None</td>\n",
       "    </tr>\n",
       "    <tr>\n",
       "      <td>746241</td>\n",
       "      <td>WOODBURY FINANCIAL SERVICES INC\\\\\\\\\\\\MN       ...</td>\n",
       "      <td></td>\n",
       "      <td>None</td>\n",
       "      <td>None</td>\n",
       "      <td>None</td>\n",
       "    </tr>\n",
       "    <tr>\n",
       "      <td>747543</td>\n",
       "      <td>WORLDQUANT MILLENNIUM WMQS GEAE OFFSHORE FUND ...</td>\n",
       "      <td></td>\n",
       "      <td>None</td>\n",
       "      <td>None</td>\n",
       "      <td>None</td>\n",
       "    </tr>\n",
       "    <tr>\n",
       "      <td>757802</td>\n",
       "      <td>ZILKER MULTI-STRATEGIES INSURANCE DEDICATED FU...</td>\n",
       "      <td></td>\n",
       "      <td>None</td>\n",
       "      <td>None</td>\n",
       "      <td>None</td>\n",
       "    </tr>\n",
       "    <tr>\n",
       "      <td>758565</td>\n",
       "      <td>ZON MULTIMEDIA - SERVICOS DE TELECOMMUNICACOES...</td>\n",
       "      <td></td>\n",
       "      <td>None</td>\n",
       "      <td>None</td>\n",
       "      <td>None</td>\n",
       "    </tr>\n",
       "  </tbody>\n",
       "</table>\n",
       "<p>475 rows × 5 columns</p>\n",
       "</div>"
      ],
      "text/plain": [
       "                                                     Name CIK_Num Space  \\\n",
       "3594    36ONE HEDGE SEGREGATED PORTFOLIO OF THE SOUTH ...          None   \n",
       "6716    A-DHT-28-FUND, A SERIES OF HERON ROCK, ENDEAVO...          None   \n",
       "6862    A-FTB-15-FUND, A SERIES OF HERON ROCK, ENDEAVO...          None   \n",
       "6892    A-GIM-15-FUND, A SERIES OF HERON ROCK, ENDEAVO...          None   \n",
       "6929    A-HCD-15-FUND, A SERIES OF HERON ROCK, ENDEAVO...          None   \n",
       "...                                                   ...     ...   ...   \n",
       "744715  WNC INSTITUTIONAL TAX CREDIT FUND X CALIFORNIA...          None   \n",
       "746241  WOODBURY FINANCIAL SERVICES INC\\\\\\\\\\\\MN       ...          None   \n",
       "747543  WORLDQUANT MILLENNIUM WMQS GEAE OFFSHORE FUND ...          None   \n",
       "757802  ZILKER MULTI-STRATEGIES INSURANCE DEDICATED FU...          None   \n",
       "758565  ZON MULTIMEDIA - SERVICOS DE TELECOMMUNICACOES...          None   \n",
       "\n",
       "       Space1 Space3  \n",
       "3594     None   None  \n",
       "6716     None   None  \n",
       "6862     None   None  \n",
       "6892     None   None  \n",
       "6929     None   None  \n",
       "...       ...    ...  \n",
       "744715   None   None  \n",
       "746241   None   None  \n",
       "747543   None   None  \n",
       "757802   None   None  \n",
       "758565   None   None  \n",
       "\n",
       "[475 rows x 5 columns]"
      ]
     },
     "execution_count": 219,
     "metadata": {},
     "output_type": "execute_result"
    }
   ],
   "source": [
    "df.loc[df['CIK_Num'] == '']"
   ]
  },
  {
   "cell_type": "code",
   "execution_count": 225,
   "metadata": {},
   "outputs": [],
   "source": [
    "df2 = df.dropna(subset=['CIK_Num'],)"
   ]
  },
  {
   "cell_type": "code",
   "execution_count": 226,
   "metadata": {
    "scrolled": true
   },
   "outputs": [
    {
     "name": "stdout",
     "output_type": "stream",
     "text": [
      "<class 'pandas.core.frame.DataFrame'>\n",
      "Int64Index: 754640 entries, 0 to 759376\n",
      "Data columns (total 5 columns):\n",
      "Name       754640 non-null object\n",
      "CIK_Num    754640 non-null object\n",
      "Space      729181 non-null object\n",
      "Space1     269 non-null object\n",
      "Space3     2 non-null object\n",
      "dtypes: object(5)\n",
      "memory usage: 34.5+ MB\n"
     ]
    }
   ],
   "source": [
    "df2.info()"
   ]
  },
  {
   "cell_type": "code",
   "execution_count": 230,
   "metadata": {},
   "outputs": [],
   "source": [
    "df3 = df2.drop(columns=['Space1', 'Space3', 'Space'])"
   ]
  },
  {
   "cell_type": "code",
   "execution_count": 231,
   "metadata": {
    "scrolled": true
   },
   "outputs": [
    {
     "name": "stdout",
     "output_type": "stream",
     "text": [
      "<class 'pandas.core.frame.DataFrame'>\n",
      "Int64Index: 754640 entries, 0 to 759376\n",
      "Data columns (total 2 columns):\n",
      "Name       754640 non-null object\n",
      "CIK_Num    754640 non-null object\n",
      "dtypes: object(2)\n",
      "memory usage: 17.3+ MB\n"
     ]
    }
   ],
   "source": [
    "df3.info()"
   ]
  },
  {
   "cell_type": "code",
   "execution_count": 233,
   "metadata": {
    "scrolled": false
   },
   "outputs": [
    {
     "data": {
      "text/plain": [
       "Name       0\n",
       "CIK_Num    0\n",
       "dtype: int64"
      ]
     },
     "execution_count": 233,
     "metadata": {},
     "output_type": "execute_result"
    }
   ],
   "source": [
    "df3.isna().sum()"
   ]
  },
  {
   "cell_type": "code",
   "execution_count": 253,
   "metadata": {},
   "outputs": [],
   "source": [
    "df3.Name = df3.Name.str.title()"
   ]
  },
  {
   "cell_type": "code",
   "execution_count": 408,
   "metadata": {
    "scrolled": true
   },
   "outputs": [
    {
     "data": {
      "text/html": [
       "<div>\n",
       "<style scoped>\n",
       "    .dataframe tbody tr th:only-of-type {\n",
       "        vertical-align: middle;\n",
       "    }\n",
       "\n",
       "    .dataframe tbody tr th {\n",
       "        vertical-align: top;\n",
       "    }\n",
       "\n",
       "    .dataframe thead th {\n",
       "        text-align: right;\n",
       "    }\n",
       "</style>\n",
       "<table border=\"1\" class=\"dataframe\">\n",
       "  <thead>\n",
       "    <tr style=\"text-align: right;\">\n",
       "      <th></th>\n",
       "      <th>Name</th>\n",
       "      <th>CIK_Num</th>\n",
       "    </tr>\n",
       "  </thead>\n",
       "  <tbody>\n",
       "    <tr>\n",
       "      <td>0</td>\n",
       "      <td>#1 A Lifesafer Holdings, Inc.</td>\n",
       "      <td>0001509607</td>\n",
       "    </tr>\n",
       "    <tr>\n",
       "      <td>1</td>\n",
       "      <td>#1 Arizona Discount Properties Llc</td>\n",
       "      <td>0001457512</td>\n",
       "    </tr>\n",
       "    <tr>\n",
       "      <td>2</td>\n",
       "      <td>#1 Paintball Corp</td>\n",
       "      <td>0001433777</td>\n",
       "    </tr>\n",
       "    <tr>\n",
       "      <td>3</td>\n",
       "      <td>$ Llc</td>\n",
       "      <td>0001427189</td>\n",
       "    </tr>\n",
       "    <tr>\n",
       "      <td>4</td>\n",
       "      <td>$Avy, Inc.</td>\n",
       "      <td>0001655250</td>\n",
       "    </tr>\n",
       "  </tbody>\n",
       "</table>\n",
       "</div>"
      ],
      "text/plain": [
       "                                 Name     CIK_Num\n",
       "0       #1 A Lifesafer Holdings, Inc.  0001509607\n",
       "1  #1 Arizona Discount Properties Llc  0001457512\n",
       "2                   #1 Paintball Corp  0001433777\n",
       "3                               $ Llc  0001427189\n",
       "4                          $Avy, Inc.  0001655250"
      ]
     },
     "execution_count": 408,
     "metadata": {},
     "output_type": "execute_result"
    }
   ],
   "source": [
    "df3.head()"
   ]
  },
  {
   "cell_type": "code",
   "execution_count": 413,
   "metadata": {},
   "outputs": [
    {
     "data": {
      "text/plain": [
       "['3M Co',\n",
       " 'Abbott Laboratories',\n",
       " 'Accenture Plc',\n",
       " 'Allegiant Travel Co',\n",
       " 'American International Group Inc.',\n",
       " 'Baker Hughes Co',\n",
       " 'Baxter International Inc',\n",
       " 'Boeing Co',\n",
       " 'Citigroup',\n",
       " 'Devon Energy Corp',\n",
       " 'Duke Energy',\n",
       " 'Goldman Sachs Group Inc',\n",
       " 'Home Depot',\n",
       " 'Johnson & Johnson',\n",
       " 'Kimberly-Clark',\n",
       " 'Mastercard Inc',\n",
       " 'MetLife',\n",
       " 'Morgan Stanley',\n",
       " 'Nike',\n",
       " 'Philip Morris International Inc.',\n",
       " 'Procter&Gamble',\n",
       " 'Prudential Financial Inc',\n",
       " 'Raytheon Technologies Corp',\n",
       " 'Simon Property Group Inc',\n",
       " 'Skywest Inc',\n",
       " 'Southern Co']"
      ]
     },
     "execution_count": 413,
     "metadata": {},
     "output_type": "execute_result"
    }
   ],
   "source": [
    "NYSE_US"
   ]
  },
  {
   "cell_type": "code",
   "execution_count": 421,
   "metadata": {},
   "outputs": [],
   "source": [
    "NYSE_US = ['3M Co',\n",
    "'Abbott Laboratories',\n",
    "'Accenture Plc',\n",
    "'Allegiant Travel Co',           \n",
    "'American International Group Inc.',\n",
    "'Baker Hughes Co',\n",
    "'Baxter International Inc',\n",
    "'Boeing Co',\n",
    "'Citigroup',\n",
    "'Devon Energy Corp',\n",
    "'Duke Energy',\n",
    "'Goldman Sachs Group Inc',\n",
    "'Home Depot',\n",
    "'Johnson & Johnson',\n",
    "'Kimberly-Clark',\n",
    "'Mastercard Inc',\n",
    "'MetLife',\n",
    "'Morgan Stanley',\n",
    "'Nike',\n",
    "'Philip Morris International Inc.',\n",
    "'Procter&Gamble',\n",
    "'Prudential Financial Inc',\n",
    "'Raytheon Technologies Corp',\n",
    "'Simon Property Group Inc',\n",
    "'Skywest Inc',\n",
    "'Southern Co']"
   ]
  },
  {
   "cell_type": "code",
   "execution_count": 430,
   "metadata": {},
   "outputs": [],
   "source": [
    "# df3.isin.loc[df3['Name'] NYSE_US]\n",
    "df_NYSE = df3[df3['Name'].isin(NYSE_US)]\n",
    "df_NYSE = df_NYSE.to_csv('SEC Registered NYSE US Companies Down Sampled')"
   ]
  },
  {
   "cell_type": "code",
   "execution_count": 427,
   "metadata": {},
   "outputs": [
    {
     "data": {
      "text/html": [
       "<div>\n",
       "<style scoped>\n",
       "    .dataframe tbody tr th:only-of-type {\n",
       "        vertical-align: middle;\n",
       "    }\n",
       "\n",
       "    .dataframe tbody tr th {\n",
       "        vertical-align: top;\n",
       "    }\n",
       "\n",
       "    .dataframe thead th {\n",
       "        text-align: right;\n",
       "    }\n",
       "</style>\n",
       "<table border=\"1\" class=\"dataframe\">\n",
       "  <thead>\n",
       "    <tr style=\"text-align: right;\">\n",
       "      <th></th>\n",
       "      <th>Name</th>\n",
       "      <th>CIK_Num</th>\n",
       "    </tr>\n",
       "  </thead>\n",
       "  <tbody>\n",
       "    <tr>\n",
       "      <td>3931</td>\n",
       "      <td>3M Co</td>\n",
       "      <td>0000066740</td>\n",
       "    </tr>\n",
       "    <tr>\n",
       "      <td>9138</td>\n",
       "      <td>Abbott Laboratories</td>\n",
       "      <td>0000001800</td>\n",
       "    </tr>\n",
       "    <tr>\n",
       "      <td>11358</td>\n",
       "      <td>Accenture Plc</td>\n",
       "      <td>0001467373</td>\n",
       "    </tr>\n",
       "    <tr>\n",
       "      <td>27062</td>\n",
       "      <td>Allegiant Travel Co</td>\n",
       "      <td>0001362468</td>\n",
       "    </tr>\n",
       "    <tr>\n",
       "      <td>61458</td>\n",
       "      <td>Baker Hughes Co</td>\n",
       "      <td>0001701605</td>\n",
       "    </tr>\n",
       "    <tr>\n",
       "      <td>68424</td>\n",
       "      <td>Baxter International Inc</td>\n",
       "      <td>0000010456</td>\n",
       "    </tr>\n",
       "    <tr>\n",
       "      <td>90064</td>\n",
       "      <td>Boeing Co</td>\n",
       "      <td>0000012927</td>\n",
       "    </tr>\n",
       "    <tr>\n",
       "      <td>188508</td>\n",
       "      <td>Devon Energy Corp</td>\n",
       "      <td>0001090012</td>\n",
       "    </tr>\n",
       "    <tr>\n",
       "      <td>284701</td>\n",
       "      <td>Goldman Sachs Group Inc</td>\n",
       "      <td>0000886982</td>\n",
       "    </tr>\n",
       "    <tr>\n",
       "      <td>284702</td>\n",
       "      <td>Goldman Sachs Group Inc</td>\n",
       "      <td>0000904571</td>\n",
       "    </tr>\n",
       "    <tr>\n",
       "      <td>364370</td>\n",
       "      <td>Johnson &amp; Johnson</td>\n",
       "      <td>0000200406</td>\n",
       "    </tr>\n",
       "    <tr>\n",
       "      <td>433573</td>\n",
       "      <td>Mastercard Inc</td>\n",
       "      <td>0001141391</td>\n",
       "    </tr>\n",
       "    <tr>\n",
       "      <td>465954</td>\n",
       "      <td>Morgan Stanley</td>\n",
       "      <td>0000895421</td>\n",
       "    </tr>\n",
       "    <tr>\n",
       "      <td>534825</td>\n",
       "      <td>Philip Morris International Inc.</td>\n",
       "      <td>0001413329</td>\n",
       "    </tr>\n",
       "    <tr>\n",
       "      <td>554278</td>\n",
       "      <td>Prudential Financial Inc</td>\n",
       "      <td>0001137774</td>\n",
       "    </tr>\n",
       "    <tr>\n",
       "      <td>565525</td>\n",
       "      <td>Raytheon Technologies Corp</td>\n",
       "      <td>0000101829</td>\n",
       "    </tr>\n",
       "    <tr>\n",
       "      <td>624309</td>\n",
       "      <td>Simon Property Group Inc</td>\n",
       "      <td>0000912564</td>\n",
       "    </tr>\n",
       "    <tr>\n",
       "      <td>627767</td>\n",
       "      <td>Skywest Inc</td>\n",
       "      <td>0000793733</td>\n",
       "    </tr>\n",
       "    <tr>\n",
       "      <td>637490</td>\n",
       "      <td>Southern Co</td>\n",
       "      <td>0000092122</td>\n",
       "    </tr>\n",
       "  </tbody>\n",
       "</table>\n",
       "</div>"
      ],
      "text/plain": [
       "                                    Name     CIK_Num\n",
       "3931                               3M Co  0000066740\n",
       "9138                 Abbott Laboratories  0000001800\n",
       "11358                      Accenture Plc  0001467373\n",
       "27062                Allegiant Travel Co  0001362468\n",
       "61458                    Baker Hughes Co  0001701605\n",
       "68424           Baxter International Inc  0000010456\n",
       "90064                          Boeing Co  0000012927\n",
       "188508                 Devon Energy Corp  0001090012\n",
       "284701           Goldman Sachs Group Inc  0000886982\n",
       "284702           Goldman Sachs Group Inc  0000904571\n",
       "364370                 Johnson & Johnson  0000200406\n",
       "433573                    Mastercard Inc  0001141391\n",
       "465954                    Morgan Stanley  0000895421\n",
       "534825  Philip Morris International Inc.  0001413329\n",
       "554278          Prudential Financial Inc  0001137774\n",
       "565525        Raytheon Technologies Corp  0000101829\n",
       "624309          Simon Property Group Inc  0000912564\n",
       "627767                       Skywest Inc  0000793733\n",
       "637490                       Southern Co  0000092122"
      ]
     },
     "execution_count": 427,
     "metadata": {},
     "output_type": "execute_result"
    }
   ],
   "source": [
    "df_NYSE"
   ]
  },
  {
   "cell_type": "code",
   "execution_count": 429,
   "metadata": {},
   "outputs": [
    {
     "data": {
      "text/plain": [
       "(19, 2)"
      ]
     },
     "execution_count": 429,
     "metadata": {},
     "output_type": "execute_result"
    }
   ],
   "source": [
    "df_NYSE.shape"
   ]
  },
  {
   "cell_type": "code",
   "execution_count": 404,
   "metadata": {},
   "outputs": [],
   "source": [
    "# def NYSE(list_of_names):\n",
    "#     for name in NYSE_US:\n",
    "#         Names = df3[df3['Name'].str.contains(name)]\n",
    "#         for cik in NYSE_US:\n",
    "#             CIKs = df3[df3['CIK_Num'].str.contains(cik)]\n",
    "#             return Names, CIKs "
   ]
  },
  {
   "cell_type": "code",
   "execution_count": 405,
   "metadata": {},
   "outputs": [
    {
     "data": {
      "text/plain": [
       "(Empty DataFrame\n",
       " Columns: [Name, CIK_Num]\n",
       " Index: [], Empty DataFrame\n",
       " Columns: [Name, CIK_Num]\n",
       " Index: [])"
      ]
     },
     "execution_count": 405,
     "metadata": {},
     "output_type": "execute_result"
    }
   ],
   "source": [
    "# NYSE(NYSE_US)"
   ]
  },
  {
   "cell_type": "code",
   "execution_count": 390,
   "metadata": {},
   "outputs": [],
   "source": [
    "# df3[df3['Name'].str.contains(NYSE_US)]"
   ]
  },
  {
   "cell_type": "code",
   "execution_count": 406,
   "metadata": {},
   "outputs": [],
   "source": [
    "# df3.to_csv('List of SEC Registered NYSE US Companies')"
   ]
  },
  {
   "cell_type": "markdown",
   "metadata": {},
   "source": [
    "# This is the test area of the imported methods from edgar library"
   ]
  },
  {
   "cell_type": "code",
   "execution_count": null,
   "metadata": {},
   "outputs": [],
   "source": [
    "# company1 = Company(\"22nd Century Group Inc.\", \"0001347858\")\n",
    "# tree1 = company1.get_all_filings(filing_type = \"10-Q\", prior_to= 2016)\n",
    "# docs1 = Company.get_documents(tree1, no_of_documents=13)\n"
   ]
  },
  {
   "cell_type": "code",
   "execution_count": 356,
   "metadata": {},
   "outputs": [],
   "source": [
    "# import time\n",
    "# time.sleep(1)  # delays for 1 second\n",
    "# time.sleep(5)  # delays for 5 seconds\n",
    "# time.sleep(60)  # delays for 1 minute"
   ]
  },
  {
   "cell_type": "code",
   "execution_count": 369,
   "metadata": {},
   "outputs": [],
   "source": [
    "# for company in NYSE_US:\n",
    "#     for cik in df3['CIK_Num']:\n",
    "#         company1 = Company(company, cik)\n",
    "#         tree1 = company1.get_all_filings(filing_type = \"10-Q\", prior_to= \"2016\")\n",
    "#         docs1 = Company.get_documents(tree1, no_of_documents=1)\n",
    "        "
   ]
  },
  {
   "cell_type": "code",
   "execution_count": null,
   "metadata": {},
   "outputs": [],
   "source": [
    "# edgar."
   ]
  },
  {
   "cell_type": "code",
   "execution_count": 351,
   "metadata": {},
   "outputs": [],
   "source": [
    "# edgar = Edgar()\n",
    "# possible_companies = edgar.get_cik_by_company_name('')"
   ]
  },
  {
   "cell_type": "code",
   "execution_count": 352,
   "metadata": {},
   "outputs": [],
   "source": [
    "# possible_companies"
   ]
  },
  {
   "cell_type": "code",
   "execution_count": 296,
   "metadata": {},
   "outputs": [],
   "source": [
    "# possible_companies = edgar.find_company_name(\"General Mills, Inc.\")"
   ]
  },
  {
   "cell_type": "code",
   "execution_count": 192,
   "metadata": {},
   "outputs": [],
   "source": [
    "# possible_companies"
   ]
  },
  {
   "cell_type": "markdown",
   "metadata": {},
   "source": [
    "# Resources\n",
    "\n",
    "**The Idea**\n",
    "\n",
    "The Blog That Led to This Project: https://towardsdatascience.com/useful-sentiment-analysis-mining-sec-filings-part-1-358942fc98ed\n",
    "\n",
    "\n",
    "**Edgar**\n",
    "\n",
    "Edgar Documentation: https://pypi.org/project/edgar/\n",
    "\n",
    "\n",
    "Video on How to Install, Import, and Request via Edgar Library: https://www.youtube.com/watch?v=_eN7D0IKu4Q\n",
    "\n",
    "Video on How to Use SEC.gov Website to Parse Data: https://www.youtube.com/watch?v=4PMEBk9bZSo\n",
    "\n",
    "\n",
    "\n",
    "**Company List**\n",
    "\n",
    "List of SEC Registered Companies: https://www.sec.gov/Archives/edgar/cik-lookup-data.txt\n",
    "\n",
    "\n",
    "Top NYSE US Companies: https://www.investing.com/indices/nyse-us-100-components\n",
    "\n",
    "\n",
    "**Pandas Cheat Sheet**\n",
    "\n",
    "https://morphocode.com/pandas-cheat-sheet/\n",
    "\n"
   ]
  }
 ],
 "metadata": {
  "kernelspec": {
   "display_name": "Python 3",
   "language": "python",
   "name": "python3"
  },
  "language_info": {
   "codemirror_mode": {
    "name": "ipython",
    "version": 3
   },
   "file_extension": ".py",
   "mimetype": "text/x-python",
   "name": "python",
   "nbconvert_exporter": "python",
   "pygments_lexer": "ipython3",
   "version": "3.6.9"
  }
 },
 "nbformat": 4,
 "nbformat_minor": 2
}
